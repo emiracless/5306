{
  "cells": [
    {
      "cell_type": "markdown",
      "metadata": {
        "id": "eoIEW0Qgd4mZ"
      },
      "source": [
        "# Tutorial 1\n",
        "\n",
        "What's covered:\n",
        "1. Tutorial overview\n",
        "2. Experimental environment \n",
        "3. Say hi to Python\n",
        "\n",
        "\n",
        "---\n",
        "\n",
        "\n",
        "## 1. Tutorial overview\n",
        "\n",
        "For this course, the first half of the tutorial session will introduce some **Python basics** and **Python packages** including OpenCV, NumPy, PyTorch, etc, which might be necessary to do the projects. And the second half will be about the **projects**. There are totally three small projects:\n",
        "1. Image compression (with classical methods.)\n",
        "2. Image compression (with deep learning methods.)\n",
        "3. Video compression (based on image compression in 1. and 2., or fancy video compression if you like.)\n",
        "\n",
        "\n",
        "---\n",
        "\n",
        "## 2. Experimental environment\n",
        "\n",
        "By default, we use Colab (https://colab.research.google.com/) for the experiments of this tutorial. You could see it as a powerful interactive Python environment on a remote running machine. The default interface for Colab is ipynb (an interactive python notebook). There're two kinds of boxes: code boxes where you write all the Python code, and text boxes which are like text editor supports Markdown syntax. You can use bash command, and use remote GPU as well.\n",
        "Next will show some basic usage."
      ]
    },
    {
      "cell_type": "markdown",
      "metadata": {
        "id": "eVe5KPHWl0oP"
      },
      "source": [
        "### 2.1 Allocate GPU\n",
        "\n",
        "'runtime' -> 'change runtime type'"
      ]
    },
    {
      "cell_type": "markdown",
      "metadata": {
        "id": "Q-i8zeyXm-77"
      },
      "source": [
        "### 2.2 Bach Command\n",
        "\n",
        "Just add `!` at the beginning of usual bash commands. Let's check GPU availability and see what' in the folder..."
      ]
    },
    {
      "cell_type": "code",
      "execution_count": 1,
      "metadata": {
        "id": "yy7KQfYyEVIX",
        "vscode": {
          "languageId": "python"
        },
        "colab": {
          "base_uri": "https://localhost:8080/"
        },
        "outputId": "80c21c32-c6a6-49b0-8b28-a36068298090"
      },
      "outputs": [
        {
          "output_type": "stream",
          "name": "stdout",
          "text": [
            "Fri Mar  3 01:16:21 2023       \n",
            "+-----------------------------------------------------------------------------+\n",
            "| NVIDIA-SMI 525.85.12    Driver Version: 525.85.12    CUDA Version: 12.0     |\n",
            "|-------------------------------+----------------------+----------------------+\n",
            "| GPU  Name        Persistence-M| Bus-Id        Disp.A | Volatile Uncorr. ECC |\n",
            "| Fan  Temp  Perf  Pwr:Usage/Cap|         Memory-Usage | GPU-Util  Compute M. |\n",
            "|                               |                      |               MIG M. |\n",
            "|===============================+======================+======================|\n",
            "|   0  Tesla T4            Off  | 00000000:00:04.0 Off |                    0 |\n",
            "| N/A   68C    P0    30W /  70W |      0MiB / 15360MiB |      0%      Default |\n",
            "|                               |                      |                  N/A |\n",
            "+-------------------------------+----------------------+----------------------+\n",
            "                                                                               \n",
            "+-----------------------------------------------------------------------------+\n",
            "| Processes:                                                                  |\n",
            "|  GPU   GI   CI        PID   Type   Process name                  GPU Memory |\n",
            "|        ID   ID                                                   Usage      |\n",
            "|=============================================================================|\n",
            "|  No running processes found                                                 |\n",
            "+-----------------------------------------------------------------------------+\n"
          ]
        }
      ],
      "source": [
        "# check GPU availability\n",
        "!nvidia-smi"
      ]
    },
    {
      "cell_type": "code",
      "execution_count": 2,
      "metadata": {
        "id": "ihBFD1wGqocd",
        "vscode": {
          "languageId": "python"
        },
        "colab": {
          "base_uri": "https://localhost:8080/"
        },
        "outputId": "d118daa4-aed7-48d7-b1a7-6d3a48b9be0e"
      },
      "outputs": [
        {
          "output_type": "stream",
          "name": "stdout",
          "text": [
            "sample_data\n"
          ]
        }
      ],
      "source": [
        "# we can use ls command to show what files we have in our folder.\n",
        "!ls"
      ]
    },
    {
      "cell_type": "code",
      "execution_count": 3,
      "metadata": {
        "id": "8jJvkB-8kyiU",
        "vscode": {
          "languageId": "python"
        },
        "colab": {
          "base_uri": "https://localhost:8080/"
        },
        "outputId": "ecbbf400-2fe4-4deb-d474-180192620eeb"
      },
      "outputs": [
        {
          "output_type": "stream",
          "name": "stdout",
          "text": [
            "/content\n"
          ]
        }
      ],
      "source": [
        "# print current working directory\n",
        "!pwd"
      ]
    },
    {
      "cell_type": "code",
      "execution_count": 4,
      "metadata": {
        "id": "L4B97HiuN8TO",
        "vscode": {
          "languageId": "python"
        },
        "colab": {
          "base_uri": "https://localhost:8080/"
        },
        "outputId": "dee7420f-05cc-48a3-c18f-3302ea269e82"
      },
      "outputs": [
        {
          "output_type": "stream",
          "name": "stdout",
          "text": [
            "anscombe.json\t\t      mnist_test.csv\n",
            "california_housing_test.csv   mnist_train_small.csv\n",
            "california_housing_train.csv  README.md\n"
          ]
        }
      ],
      "source": [
        "# ls command to show what files we have in our folder.\n",
        "!ls sample_data"
      ]
    },
    {
      "cell_type": "markdown",
      "metadata": {
        "id": "6itDOVsuqo0I"
      },
      "source": [
        "If want certain options for a command, just call ``xx_command --help``"
      ]
    },
    {
      "cell_type": "code",
      "execution_count": 5,
      "metadata": {
        "id": "OEZ9zq8-qPGn",
        "vscode": {
          "languageId": "python"
        },
        "colab": {
          "base_uri": "https://localhost:8080/"
        },
        "outputId": "549d3b5f-4d4d-423b-f8b5-7780f4bbedb7"
      },
      "outputs": [
        {
          "output_type": "stream",
          "name": "stdout",
          "text": [
            "Usage: ls [OPTION]... [FILE]...\n",
            "List information about the FILEs (the current directory by default).\n",
            "Sort entries alphabetically if none of -cftuvSUX nor --sort is specified.\n",
            "\n",
            "Mandatory arguments to long options are mandatory for short options too.\n",
            "  -a, --all                  do not ignore entries starting with .\n",
            "  -A, --almost-all           do not list implied . and ..\n",
            "      --author               with -l, print the author of each file\n",
            "  -b, --escape               print C-style escapes for nongraphic characters\n",
            "      --block-size=SIZE      with -l, scale sizes by SIZE when printing them;\n",
            "                               e.g., '--block-size=M'; see SIZE format below\n",
            "  -B, --ignore-backups       do not list implied entries ending with ~\n",
            "  -c                         with -lt: sort by, and show, ctime (time of last\n",
            "                               modification of file status information);\n",
            "                               with -l: show ctime and sort by name;\n",
            "                               otherwise: sort by ctime, newest first\n",
            "  -C                         list entries by columns\n",
            "      --color[=WHEN]         colorize the output; WHEN can be 'always' (default\n",
            "                               if omitted), 'auto', or 'never'; more info below\n",
            "  -d, --directory            list directories themselves, not their contents\n",
            "  -D, --dired                generate output designed for Emacs' dired mode\n",
            "  -f                         do not sort, enable -aU, disable -ls --color\n",
            "  -F, --classify             append indicator (one of */=>@|) to entries\n",
            "      --file-type            likewise, except do not append '*'\n",
            "      --format=WORD          across -x, commas -m, horizontal -x, long -l,\n",
            "                               single-column -1, verbose -l, vertical -C\n",
            "      --full-time            like -l --time-style=full-iso\n",
            "  -g                         like -l, but do not list owner\n",
            "      --group-directories-first\n",
            "                             group directories before files;\n",
            "                               can be augmented with a --sort option, but any\n",
            "                               use of --sort=none (-U) disables grouping\n",
            "  -G, --no-group             in a long listing, don't print group names\n",
            "  -h, --human-readable       with -l and -s, print sizes like 1K 234M 2G etc.\n",
            "      --si                   likewise, but use powers of 1000 not 1024\n",
            "  -H, --dereference-command-line\n",
            "                             follow symbolic links listed on the command line\n",
            "      --dereference-command-line-symlink-to-dir\n",
            "                             follow each command line symbolic link\n",
            "                               that points to a directory\n",
            "      --hide=PATTERN         do not list implied entries matching shell PATTERN\n",
            "                               (overridden by -a or -A)\n",
            "      --hyperlink[=WHEN]     hyperlink file names; WHEN can be 'always'\n",
            "                               (default if omitted), 'auto', or 'never'\n",
            "      --indicator-style=WORD  append indicator with style WORD to entry names:\n",
            "                               none (default), slash (-p),\n",
            "                               file-type (--file-type), classify (-F)\n",
            "  -i, --inode                print the index number of each file\n",
            "  -I, --ignore=PATTERN       do not list implied entries matching shell PATTERN\n",
            "  -k, --kibibytes            default to 1024-byte blocks for disk usage;\n",
            "                               used only with -s and per directory totals\n",
            "  -l                         use a long listing format\n",
            "  -L, --dereference          when showing file information for a symbolic\n",
            "                               link, show information for the file the link\n",
            "                               references rather than for the link itself\n",
            "  -m                         fill width with a comma separated list of entries\n",
            "  -n, --numeric-uid-gid      like -l, but list numeric user and group IDs\n",
            "  -N, --literal              print entry names without quoting\n",
            "  -o                         like -l, but do not list group information\n",
            "  -p, --indicator-style=slash\n",
            "                             append / indicator to directories\n",
            "  -q, --hide-control-chars   print ? instead of nongraphic characters\n",
            "      --show-control-chars   show nongraphic characters as-is (the default,\n",
            "                               unless program is 'ls' and output is a terminal)\n",
            "  -Q, --quote-name           enclose entry names in double quotes\n",
            "      --quoting-style=WORD   use quoting style WORD for entry names:\n",
            "                               literal, locale, shell, shell-always,\n",
            "                               shell-escape, shell-escape-always, c, escape\n",
            "                               (overrides QUOTING_STYLE environment variable)\n",
            "  -r, --reverse              reverse order while sorting\n",
            "  -R, --recursive            list subdirectories recursively\n",
            "  -s, --size                 print the allocated size of each file, in blocks\n",
            "  -S                         sort by file size, largest first\n",
            "      --sort=WORD            sort by WORD instead of name: none (-U), size (-S),\n",
            "                               time (-t), version (-v), extension (-X)\n",
            "      --time=WORD            with -l, show time as WORD instead of default\n",
            "                               modification time: atime or access or use (-u);\n",
            "                               ctime or status (-c); also use specified time\n",
            "                               as sort key if --sort=time (newest first)\n",
            "      --time-style=TIME_STYLE  time/date format with -l; see TIME_STYLE below\n",
            "  -t                         sort by modification time, newest first\n",
            "  -T, --tabsize=COLS         assume tab stops at each COLS instead of 8\n",
            "  -u                         with -lt: sort by, and show, access time;\n",
            "                               with -l: show access time and sort by name;\n",
            "                               otherwise: sort by access time, newest first\n",
            "  -U                         do not sort; list entries in directory order\n",
            "  -v                         natural sort of (version) numbers within text\n",
            "  -w, --width=COLS           set output width to COLS.  0 means no limit\n",
            "  -x                         list entries by lines instead of by columns\n",
            "  -X                         sort alphabetically by entry extension\n",
            "  -Z, --context              print any security context of each file\n",
            "  -1                         list one file per line.  Avoid '\\n' with -q or -b\n",
            "      --help     display this help and exit\n",
            "      --version  output version information and exit\n",
            "\n",
            "The SIZE argument is an integer and optional unit (example: 10K is 10*1024).\n",
            "Units are K,M,G,T,P,E,Z,Y (powers of 1024) or KB,MB,... (powers of 1000).\n",
            "\n",
            "The TIME_STYLE argument can be full-iso, long-iso, iso, locale, or +FORMAT.\n",
            "FORMAT is interpreted like in date(1).  If FORMAT is FORMAT1<newline>FORMAT2,\n",
            "then FORMAT1 applies to non-recent files and FORMAT2 to recent files.\n",
            "TIME_STYLE prefixed with 'posix-' takes effect only outside the POSIX locale.\n",
            "Also the TIME_STYLE environment variable sets the default style to use.\n",
            "\n",
            "Using color to distinguish file types is disabled both by default and\n",
            "with --color=never.  With --color=auto, ls emits color codes only when\n",
            "standard output is connected to a terminal.  The LS_COLORS environment\n",
            "variable can change the settings.  Use the dircolors command to set it.\n",
            "\n",
            "Exit status:\n",
            " 0  if OK,\n",
            " 1  if minor problems (e.g., cannot access subdirectory),\n",
            " 2  if serious trouble (e.g., cannot access command-line argument).\n",
            "\n",
            "GNU coreutils online help: <https://www.gnu.org/software/coreutils/>\n",
            "Full documentation at: <https://www.gnu.org/software/coreutils/ls>\n",
            "or available locally via: info '(coreutils) ls invocation'\n"
          ]
        }
      ],
      "source": [
        "!ls --help"
      ]
    },
    {
      "cell_type": "markdown",
      "metadata": {
        "id": "WlWmDFqUqb-d"
      },
      "source": [
        "Free to lookup the help document and try the below *commands* to see what's happening."
      ]
    },
    {
      "cell_type": "code",
      "execution_count": 6,
      "metadata": {
        "id": "ZsCR6ZpPqlHK",
        "vscode": {
          "languageId": "python"
        },
        "colab": {
          "base_uri": "https://localhost:8080/"
        },
        "outputId": "14e043d9-a490-480d-bea2-38ad133159c5"
      },
      "outputs": [
        {
          "output_type": "stream",
          "name": "stdout",
          "text": [
            ".  ..  .config\tsample_data\n"
          ]
        }
      ],
      "source": [
        "!ls -a"
      ]
    },
    {
      "cell_type": "code",
      "execution_count": 7,
      "metadata": {
        "id": "ps5XsJmlmvvR",
        "vscode": {
          "languageId": "python"
        },
        "colab": {
          "base_uri": "https://localhost:8080/"
        },
        "outputId": "23f40916-d00f-49ae-be33-158722b1e85b"
      },
      "outputs": [
        {
          "output_type": "stream",
          "name": "stdout",
          "text": [
            "total 4\n",
            "drwxr-xr-x 1 root root 4096 Mar  1 14:34 sample_data\n"
          ]
        }
      ],
      "source": [
        "# With argument `l`, it will show the details, including permissions, file type(file or folder), owner etc.\n",
        "!ls -l"
      ]
    },
    {
      "cell_type": "code",
      "execution_count": 8,
      "metadata": {
        "id": "S2rDYIBOOT12",
        "vscode": {
          "languageId": "python"
        }
      },
      "outputs": [],
      "source": [
        "# `mkdir new_folder` to make a new folder\n",
        "!mkdir new_folder"
      ]
    },
    {
      "cell_type": "code",
      "execution_count": 9,
      "metadata": {
        "id": "d2HL_hutrarz",
        "vscode": {
          "languageId": "python"
        },
        "colab": {
          "base_uri": "https://localhost:8080/"
        },
        "outputId": "7adb2d25-369e-4ef6-ce82-10bd5e42086c"
      },
      "outputs": [
        {
          "output_type": "stream",
          "name": "stdout",
          "text": [
            "total 20\n",
            "drwxr-xr-x 1 root root 4096 Mar  3 01:16 .\n",
            "drwxr-xr-x 1 root root 4096 Mar  3 01:15 ..\n",
            "drwxr-xr-x 4 root root 4096 Mar  1 14:33 .config\n",
            "drwxr-xr-x 2 root root 4096 Mar  3 01:16 new_folder\n",
            "drwxr-xr-x 1 root root 4096 Mar  1 14:34 sample_data\n"
          ]
        }
      ],
      "source": [
        "# We can combine arguments together\n",
        "!ls -al"
      ]
    },
    {
      "cell_type": "markdown",
      "metadata": {
        "id": "KcSZJbRYrQsK"
      },
      "source": [
        "### 2.3 Run Python code"
      ]
    },
    {
      "cell_type": "markdown",
      "metadata": {
        "id": "zqVQsi81rful"
      },
      "source": [
        "Just text python codes in the code boxes as usual, then click the 'play' button. \n",
        "There's also several run options in the 'Runtime' in the Menu bar on top of the window."
      ]
    },
    {
      "cell_type": "code",
      "execution_count": 10,
      "metadata": {
        "id": "RFnluR9wrXk3",
        "vscode": {
          "languageId": "python"
        },
        "colab": {
          "base_uri": "https://localhost:8080/"
        },
        "outputId": "ad6bc3b7-a39d-4764-df8e-3885a66c8ba4"
      },
      "outputs": [
        {
          "output_type": "stream",
          "name": "stdout",
          "text": [
            "hey\n"
          ]
        }
      ],
      "source": [
        "print('hey')"
      ]
    },
    {
      "cell_type": "markdown",
      "metadata": {
        "id": "kFjUBnD5sUbq"
      },
      "source": [
        "We'll introduce more commands when we need to use them.\n",
        "\n",
        "## 3. Python\n",
        "\n",
        "Python is an interpreted, high-level and general-purpose programming language. Don't panic, it's just as easy as Matlab (if not easier).\n",
        "\n",
        "Next gonna show a few very basic commands in Python.\n",
        "\n",
        "---\n",
        "\n",
        "\n",
        "\n",
        "### 3.1 If\n",
        "\n",
        "\n",
        "```python\n",
        "if condition:\n",
        "    some code here\n",
        "else:\n",
        "    some other code here\n",
        "```"
      ]
    },
    {
      "cell_type": "code",
      "execution_count": 11,
      "metadata": {
        "id": "jVYvgyTdFho0",
        "vscode": {
          "languageId": "python"
        },
        "colab": {
          "base_uri": "https://localhost:8080/"
        },
        "outputId": "4484fa4a-a1b0-45b7-ea59-95f60b977ff3"
      },
      "outputs": [
        {
          "output_type": "stream",
          "name": "stdout",
          "text": [
            "a is less than b\n"
          ]
        }
      ],
      "source": [
        "a = 1\n",
        "b = 2\n",
        "if a > b:\n",
        "  print(\"a is greater than b\")\n",
        "else:\n",
        "  print(\"a is less than b\")"
      ]
    },
    {
      "cell_type": "markdown",
      "metadata": {
        "id": "WkAHnSPBGGbv"
      },
      "source": [
        "Note that in Python, indentation is extremely important, it defines the scope, so this is not right:"
      ]
    },
    {
      "cell_type": "code",
      "execution_count": 12,
      "metadata": {
        "id": "gyZTPYvsGckV",
        "vscode": {
          "languageId": "python"
        },
        "colab": {
          "base_uri": "https://localhost:8080/"
        },
        "outputId": "d1f0889a-b84a-460a-f2d6-96bcc390758c"
      },
      "outputs": [
        {
          "output_type": "stream",
          "name": "stdout",
          "text": [
            "Test\n"
          ]
        }
      ],
      "source": [
        "if True:\n",
        " print(\"Test\")"
      ]
    },
    {
      "cell_type": "markdown",
      "metadata": {
        "id": "1LkMxEeAGgbm"
      },
      "source": [
        "\n",
        "\n",
        "### 3.2 Loop\n",
        "\n",
        "`for` and `while` loops are probably the same thing as for almost any other language\n",
        "\n",
        "```python\n",
        "for var in iterable:\n",
        "    code\n",
        "```\n",
        "\n",
        "\n",
        "```python\n",
        "while condition:\n",
        "    code\n",
        "```\n",
        "\n",
        "Let's say we have a list"
      ]
    },
    {
      "cell_type": "code",
      "execution_count": 13,
      "metadata": {
        "id": "NpZKsZsHJEcG",
        "vscode": {
          "languageId": "python"
        }
      },
      "outputs": [],
      "source": [
        "lst = [1,2,3]"
      ]
    },
    {
      "cell_type": "markdown",
      "metadata": {
        "id": "XCrhFH39JGid"
      },
      "source": [
        "And we want to print the items in the list one by one, we can use the index to access those items of course"
      ]
    },
    {
      "cell_type": "code",
      "execution_count": 14,
      "metadata": {
        "id": "n8YCukPdJF0S",
        "vscode": {
          "languageId": "python"
        },
        "colab": {
          "base_uri": "https://localhost:8080/"
        },
        "outputId": "deacb338-ac9e-4dfa-9718-062c9a847a4b"
      },
      "outputs": [
        {
          "output_type": "stream",
          "name": "stdout",
          "text": [
            "iterate over indexes\n",
            "1\n",
            "2\n",
            "3\n"
          ]
        }
      ],
      "source": [
        "print(\"iterate over indexes\")\n",
        "for index in range(3):\n",
        "  print(lst[index])"
      ]
    },
    {
      "cell_type": "markdown",
      "metadata": {
        "id": "VTKX4EivJWhV"
      },
      "source": [
        "We can also directly iterate over the lst itself, because it is an iterable item by any means"
      ]
    },
    {
      "cell_type": "code",
      "execution_count": 15,
      "metadata": {
        "id": "m5K7GRAiIWi5",
        "vscode": {
          "languageId": "python"
        },
        "colab": {
          "base_uri": "https://localhost:8080/"
        },
        "outputId": "9304b799-44f4-4640-ce17-2709c339dee1"
      },
      "outputs": [
        {
          "output_type": "stream",
          "name": "stdout",
          "text": [
            "iterate over lst:\n",
            "1\n",
            "2\n",
            "3\n"
          ]
        }
      ],
      "source": [
        "print(\"iterate over lst:\")\n",
        "for item in lst:\n",
        "  print(item)"
      ]
    },
    {
      "cell_type": "markdown",
      "metadata": {
        "id": "xQyg1Bu9I5BF"
      },
      "source": [
        "And we can also use the while loop"
      ]
    },
    {
      "cell_type": "code",
      "execution_count": 16,
      "metadata": {
        "id": "UL_RbVTlIvZO",
        "vscode": {
          "languageId": "python"
        },
        "colab": {
          "base_uri": "https://localhost:8080/"
        },
        "outputId": "5cb49487-92ff-4301-ec2f-563de9896d5b"
      },
      "outputs": [
        {
          "output_type": "stream",
          "name": "stdout",
          "text": [
            "while loop\n",
            "1\n",
            "2\n",
            "3\n"
          ]
        }
      ],
      "source": [
        "print(\"while loop\")\n",
        "idx = 0\n",
        "length = len(lst)\n",
        "while idx < length:\n",
        "  print(lst[idx])\n",
        "  idx = idx + 1\n"
      ]
    },
    {
      "cell_type": "markdown",
      "metadata": {
        "id": "Rua3R7iEvN4R"
      },
      "source": [
        "### 3.3 List"
      ]
    },
    {
      "cell_type": "code",
      "execution_count": 17,
      "metadata": {
        "id": "kFEsLXB9vQrf",
        "vscode": {
          "languageId": "python"
        },
        "colab": {
          "base_uri": "https://localhost:8080/"
        },
        "outputId": "f5ca9baa-3739-45af-b1c1-3786d7e317c2"
      },
      "outputs": [
        {
          "output_type": "stream",
          "name": "stdout",
          "text": [
            "1 3\n"
          ]
        }
      ],
      "source": [
        "# define a list\n",
        "l = [1, 2, 3]\n",
        "\n",
        "# index starts from 0 in Python\n",
        "print(l[0], l[2])\n",
        "\n",
        "# reverse the list\n",
        "l = l[::-1]\n",
        "\n",
        "# get the length of a list\n",
        "length = len(l)\n",
        "\n",
        "# slicing\n",
        "# get the first two element of the list\n",
        "l_part = l[:2]"
      ]
    },
    {
      "cell_type": "markdown",
      "metadata": {
        "id": "11_Oy8BcwnCz"
      },
      "source": [
        "### 3.4 Dict"
      ]
    },
    {
      "cell_type": "code",
      "execution_count": 18,
      "metadata": {
        "id": "qgf6o3cQy1o_",
        "vscode": {
          "languageId": "python"
        },
        "colab": {
          "base_uri": "https://localhost:8080/"
        },
        "outputId": "cea95a5b-1c1e-4cb3-91d9-def838d294c9"
      },
      "outputs": [
        {
          "output_type": "stream",
          "name": "stdout",
          "text": [
            "1\n",
            "['a', 'b', 'c']\n",
            "[1, 2, 3]\n"
          ]
        }
      ],
      "source": [
        "# dictionary is a collection of key-value pairs\n",
        "# define a dict\n",
        "a = {'a': 1, 'b': 2, 'c': 3}\n",
        "\n",
        "# get a value based on key\n",
        "print(a['a'])\n",
        "\n",
        "# get all the keys\n",
        "# a.keys()\n",
        "print(list(a.keys()))\n",
        "\n",
        "# get all the values\n",
        "# a.values()\n",
        "print(list(a.values()))"
      ]
    },
    {
      "cell_type": "markdown",
      "metadata": {
        "id": "ogviFMttMSeV"
      },
      "source": [
        "### 3.5 Functions"
      ]
    },
    {
      "cell_type": "code",
      "execution_count": 19,
      "metadata": {
        "id": "zxV87ZN3zuzm",
        "vscode": {
          "languageId": "python"
        },
        "colab": {
          "base_uri": "https://localhost:8080/"
        },
        "outputId": "7cc26c5b-26ff-49a3-8fea-1d14e976d2df"
      },
      "outputs": [
        {
          "output_type": "stream",
          "name": "stdout",
          "text": [
            "hahaha lolol\n",
            "do print and all good\n"
          ]
        }
      ],
      "source": [
        "def func(input_1, input_2):\n",
        "  # do something...\n",
        "  print(input_1, input_2)\n",
        "  # return something...\n",
        "  return 'do print and all good'\n",
        "\n",
        "return_str = func('hahaha', 'lolol')\n",
        "print(return_str)"
      ]
    },
    {
      "cell_type": "markdown",
      "metadata": {
        "id": "I9LMNkyh0Tgf"
      },
      "source": [
        "## 4. Small practices"
      ]
    },
    {
      "cell_type": "markdown",
      "source": [
        "### Question 1\n",
        "\n",
        "#### **Question:**\n",
        "\n",
        "> **_Write a program which will find all such numbers which are divisible by 7 but are not a multiple of 5,\n",
        "> between 2000 and 3200 (both included).The numbers obtained should be printed in a comma-separated sequence on a single line._**\n",
        "\n",
        "---\n",
        "\n",
        "#### Hints:\n",
        "\n",
        "> **_Consider use range(#begin, #end) method._**\n",
        "\n",
        "---\n",
        "\n",
        "\n",
        "\n",
        "**Solutions:**\n",
        "\n",
        "- **Using for loops**"
      ],
      "metadata": {
        "id": "2wQ1PhJEQIGR"
      }
    },
    {
      "cell_type": "code",
      "source": [
        "for i in range(2000, 3201):\n",
        "    if i % 7 == 0 and i % 5 != 0:\n",
        "        print(i, end=\",\")\n",
        "print(\"\\b\")"
      ],
      "metadata": {
        "id": "kkFsudaRRrCo"
      },
      "execution_count": null,
      "outputs": []
    },
    {
      "cell_type": "markdown",
      "source": [
        "---\n",
        "\n",
        "- **Using generators and list comprehension**"
      ],
      "metadata": {
        "id": "ssLXM-IbRtyw"
      }
    },
    {
      "cell_type": "code",
      "source": [
        "print(*(i for i in range(2000, 3201) if i % 7 == 0 and i % 5 != 0), sep=\",\")"
      ],
      "metadata": {
        "id": "ZVTRWKC4Ru7Q"
      },
      "execution_count": null,
      "outputs": []
    },
    {
      "cell_type": "markdown",
      "source": [
        "### Question 2\n",
        "\n",
        "#### **Question:**\n",
        "\n",
        "> **_Write a program which can compute the factorial of a given numbers.The results should be printed in a comma-separated sequence on a single line.Suppose the following input is supplied to the program: 8\n",
        "> Then, the output should be:40320_**\n",
        "\n",
        "---\n",
        "\n",
        "#### Hints:\n",
        "\n",
        "> **_In case of input data being supplied to the question, it should be assumed to be a console input._**\n",
        "\n",
        "---\n",
        "\n",
        "\n",
        "\n",
        "**Solutions:**\n"
      ],
      "metadata": {
        "id": "xsaUpO4IR7kf"
      }
    },
    {
      "cell_type": "markdown",
      "source": [
        "- **Using While Loop**"
      ],
      "metadata": {
        "id": "-VLk_71qSGCq"
      }
    },
    {
      "cell_type": "code",
      "source": [
        "n = int(input())  # input() function takes input as string type\n",
        "# int() converts it to integer type\n",
        "fact = 1\n",
        "i = 1\n",
        "while i <= n:\n",
        "    fact = fact * i\n",
        "    i = i + 1\n",
        "print(fact)"
      ],
      "metadata": {
        "id": "NluN1SgVSHx4"
      },
      "execution_count": null,
      "outputs": []
    },
    {
      "cell_type": "markdown",
      "source": [
        "- **Using For Loop**"
      ],
      "metadata": {
        "id": "lQJ7eXHuSJUg"
      }
    },
    {
      "cell_type": "code",
      "source": [
        "n = int(input())  # input() function takes input as string type\n",
        "# int() converts it to integer type\n",
        "fact = 1\n",
        "for i in range(1, n + 1):\n",
        "    fact = fact * i\n",
        "print(fact)"
      ],
      "metadata": {
        "id": "ndwLeFFaSKyo"
      },
      "execution_count": null,
      "outputs": []
    },
    {
      "cell_type": "markdown",
      "source": [
        "- **Using Lambda Function**"
      ],
      "metadata": {
        "id": "4lakudMGSMiv"
      }
    },
    {
      "cell_type": "code",
      "source": [
        "# Solution by:  harshraj22\n",
        "n = int(input())\n",
        "\n",
        "\n",
        "def shortFact(x):\n",
        "    return 1 if x <= 1 else x * shortFact(x - 1)\n",
        "\n",
        "\n",
        "print(shortFact(n))"
      ],
      "metadata": {
        "id": "MyXqwzFdSNL4"
      },
      "execution_count": null,
      "outputs": []
    },
    {
      "cell_type": "markdown",
      "source": [
        "### Question 3\n",
        "\n",
        "#### **Question:**\n",
        "\n",
        "> **_With a given integral number n, write a program to generate a dictionary that contains (i, i x i) such that is an integral number between 1 and n (both included). and then the program should print the dictionary.Suppose the following input is supplied to the program: 8_**\n",
        "\n",
        "> **_Then, the output should be:_**\n",
        "\n",
        "\n",
        "{1: 1, 2: 4, 3: 9, 4: 16, 5: 25, 6: 36, 7: 49, 8: 64}\n",
        "\n",
        "\n",
        "---\n",
        "\n",
        "#### Hints:\n",
        "\n",
        "> **_In case of input data being supplied to the question, it should be assumed to be a console input.Consider use dict()_**\n",
        "\n"
      ],
      "metadata": {
        "id": "tIy9sSdXSTDA"
      }
    },
    {
      "cell_type": "markdown",
      "source": [
        "**Solutions:**"
      ],
      "metadata": {
        "id": "5J1qskQ9SYcf"
      }
    },
    {
      "cell_type": "markdown",
      "source": [
        "- **Using For loop**"
      ],
      "metadata": {
        "id": "LzVdLQ4eSZKQ"
      }
    },
    {
      "cell_type": "code",
      "source": [
        "n = int(input())\n",
        "ans = {}\n",
        "for i in range(1, n + 1):\n",
        "    ans[i] = i * i\n",
        "print(ans)"
      ],
      "metadata": {
        "id": "cWvn-elVSbYY"
      },
      "execution_count": null,
      "outputs": []
    },
    {
      "cell_type": "markdown",
      "source": [
        "- **Using dictionary comprehension**"
      ],
      "metadata": {
        "id": "XdHoALB3Scu5"
      }
    },
    {
      "cell_type": "code",
      "source": [
        "n = int(input())\n",
        "ans = {i: i * i for i in range(1, n + 1)}\n",
        "print(ans)"
      ],
      "metadata": {
        "id": "xniCV8AjSeQg"
      },
      "execution_count": null,
      "outputs": []
    }
  ],
  "metadata": {
    "colab": {
      "provenance": [],
      "toc_visible": true
    },
    "kernelspec": {
      "display_name": "Python 3",
      "name": "python3"
    },
    "accelerator": "GPU",
    "gpuClass": "standard"
  },
  "nbformat": 4,
  "nbformat_minor": 0
}