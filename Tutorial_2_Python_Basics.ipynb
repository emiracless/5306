{
  "nbformat": 4,
  "nbformat_minor": 0,
  "metadata": {
    "colab": {
      "provenance": []
    },
    "kernelspec": {
      "name": "python3",
      "display_name": "Python 3"
    }
  },
  "cells": [
    {
      "cell_type": "markdown",
      "metadata": {
        "id": "hp-TzRg_N3GB"
      },
      "source": [
        "# Tutorial 2\n",
        "\n",
        "what's covered:\n",
        "1. More Python basics\n",
        "\n",
        "If feel confident about the content, please go to the quiz at the bottom of this page.\n",
        "\n"
      ]
    },
    {
      "cell_type": "markdown",
      "metadata": {
        "id": "4VMcUTmMPgke"
      },
      "source": [
        "## 1. More Python Basics\n",
        "\n",
        "### 1.1 Fuction & Flexibility\n",
        "\n",
        "#### 1.1.1 Regular Function\n",
        "\n",
        "A regular function could be like:"
      ]
    },
    {
      "cell_type": "code",
      "metadata": {
        "id": "Fy3bH5GMQKOh"
      },
      "source": [
        "def substract(a, b):\n",
        "    return a - b"
      ],
      "execution_count": 1,
      "outputs": []
    },
    {
      "cell_type": "markdown",
      "metadata": {
        "id": "EAX6t5lHQfVY"
      },
      "source": [
        "#### 1.1.2 Lambda Function\n",
        "\n",
        "The lambda function is about writing a whole function in one line: `lambda argument(s): expression`, this can be a very useful substitution of regular functions when combined with some other functions, e.g. ``maps`` and ``filter``.\n",
        "\n",
        "A little explanations on those two functions...\n",
        "\n",
        "`filter`, takes two arguments, `filter(function, iterable)`, and return an iterable that can yield all items that make function return `True`. \n",
        "\n",
        "```python\n",
        "animals = ['A_dog', 'B_dog', 'C_dog', 'D_cat']\n",
        "\n",
        "def is_dog(animal_name):\n",
        "  return 'dog' in animal_name\n",
        "\n",
        "print(list(filter(is_dog, animals)))\n",
        "```\n",
        "\n",
        "`map`, takes two arguments, `map(function, iterable)`, and return an iterable that can yield all items that get through the function.\n",
        "\n",
        "```python\n",
        "animals = ['A_dog', 'B_dog', 'C_dog', 'D_cat']\n",
        "\n",
        "def fly(animal_name):\n",
        "  return animal_name + '_can_fly'\n",
        "\n",
        "print(list(map(fly, animals)))\n",
        "```\n",
        "\n"
      ]
    },
    {
      "cell_type": "markdown",
      "metadata": {
        "id": "YnpgYSM5d5PB"
      },
      "source": [
        "If the function is simple and you will only need it once, defining a function like above is a little complex. By using lambda functin, things could be a little bit easier."
      ]
    },
    {
      "cell_type": "code",
      "metadata": {
        "id": "NYNbnA-uelb3",
        "colab": {
          "base_uri": "https://localhost:8080/",
          "height": 0
        },
        "outputId": "027207c2-f04e-4dee-bc79-c98101cdd1d5"
      },
      "source": [
        "animals = ['A_dog', 'B_dog', 'C_dog', 'D_cat']\n",
        "\n",
        "print(list(filter(lambda x: 'dog' in x, animals)))\n",
        "\n",
        "# the result of the expression will be returned"
      ],
      "execution_count": 2,
      "outputs": [
        {
          "output_type": "stream",
          "name": "stdout",
          "text": [
            "['A_dog', 'B_dog', 'C_dog']\n"
          ]
        }
      ]
    },
    {
      "cell_type": "markdown",
      "metadata": {
        "id": "HgTrlZtsmuP7"
      },
      "source": [
        "Try map function yourself and re-implement fly function with lambda."
      ]
    },
    {
      "cell_type": "markdown",
      "metadata": {
        "id": "A5WWJYzZx-iV"
      },
      "source": [
        "#### 1.1.3 For-loop and if-else in a line\n",
        "\n",
        "Say we want to create a list, where the items are power of 2 of items of another list."
      ]
    },
    {
      "cell_type": "code",
      "metadata": {
        "id": "bL7TpoRhzeek"
      },
      "source": [
        "original_list = list(range(5))\n",
        "\n",
        "# that's usually how we do\n",
        "processed_list = list()\n",
        "for i in original_list:\n",
        "  processed_list.append(i ** 2)"
      ],
      "execution_count": 3,
      "outputs": []
    },
    {
      "cell_type": "markdown",
      "metadata": {
        "id": "EpsmT187zq94"
      },
      "source": [
        "How about doing this in a line"
      ]
    },
    {
      "cell_type": "code",
      "metadata": {
        "id": "ehulZjr4zuPL"
      },
      "source": [
        "processed_list = [x ** 2 for x in original_list]"
      ],
      "execution_count": 4,
      "outputs": []
    },
    {
      "cell_type": "markdown",
      "metadata": {
        "id": "WmXzUfA90A6G"
      },
      "source": [
        "What if we want to set a flag variable based on a condition, if satisfied, the variable is True, otherwise, False."
      ]
    },
    {
      "cell_type": "code",
      "metadata": {
        "id": "BcvbL7q80hFk"
      },
      "source": [
        "number = -10\n",
        "\n",
        "# that's usually how we do\n",
        "is_positive = False\n",
        "if number > 0:\n",
        "  is_positive = True\n",
        "else:\n",
        "  is_positive = False"
      ],
      "execution_count": 5,
      "outputs": []
    },
    {
      "cell_type": "markdown",
      "metadata": {
        "id": "H1tf2OcZ1TVh"
      },
      "source": [
        "Is there some simpler way of doing this... Yes"
      ]
    },
    {
      "cell_type": "code",
      "metadata": {
        "id": "pIlcXB_g1a6S"
      },
      "source": [
        "number = -9\n",
        "is_positive = True if number > 0 else False"
      ],
      "execution_count": 6,
      "outputs": []
    },
    {
      "cell_type": "markdown",
      "metadata": {
        "id": "KjjfhDs61_N9"
      },
      "source": [
        "#### 1.1.4 ``+`` and ``*`` for list and string"
      ]
    },
    {
      "cell_type": "code",
      "metadata": {
        "id": "aP23Vcfn25DZ",
        "colab": {
          "base_uri": "https://localhost:8080/",
          "height": 0
        },
        "outputId": "fe3d602d-c906-47f3-df92-ad066c00f2a0"
      },
      "source": [
        "a = [1, 3]\n",
        "b = [2, 4]\n",
        "# '+' concatenate two list\n",
        "c = a + b\n",
        "print(c)\n",
        "\n",
        "aa = 'aaa'\n",
        "bb = 'bbb'\n",
        "# similarly, `+` concatenate two strings\n",
        "cc = aa + bb\n",
        "print(cc)"
      ],
      "execution_count": 7,
      "outputs": [
        {
          "output_type": "stream",
          "name": "stdout",
          "text": [
            "[1, 3, 2, 4]\n",
            "aaabbb\n"
          ]
        }
      ]
    },
    {
      "cell_type": "code",
      "metadata": {
        "id": "P9nGGcvB3h08",
        "colab": {
          "base_uri": "https://localhost:8080/",
          "height": 0
        },
        "outputId": "3538bf83-a790-49ba-acd3-8831a5464e0f"
      },
      "source": [
        "a = [1]\n",
        "repeat_time = 10\n",
        "# `*` duplicate the list by N times\n",
        "b = a * repeat_time\n",
        "print(b)\n",
        "\n",
        "aa = 'ha'\n",
        "repeat_time = 20\n",
        "# similarly, `*` duplicate the string by N times\n",
        "bb = aa * repeat_time\n",
        "print(bb)"
      ],
      "execution_count": 8,
      "outputs": [
        {
          "output_type": "stream",
          "name": "stdout",
          "text": [
            "[1, 1, 1, 1, 1, 1, 1, 1, 1, 1]\n",
            "hahahahahahahahahahahahahahahahahahahaha\n"
          ]
        }
      ]
    },
    {
      "cell_type": "markdown",
      "metadata": {
        "id": "EDg7EhaQnqh1"
      },
      "source": [
        "### 1.2 Class\n",
        "\n",
        "You can see class as a collection of attributes and methods. Usually you need to instantiate a instance of the class. All instances made from the class will inherit all the methods and properties from the class. When constructured, an instance will call the `__init__` method first to initialize, so you should put all code about how  into it. The `self` we see all the time (you can change `self` to any other word you like, but it's a tradition to name the reference to itself `self`), refers to the **instance** itself, not the class.\n",
        "\n",
        "Let's say we want to define a class dog"
      ]
    },
    {
      "cell_type": "code",
      "metadata": {
        "id": "N5lz-8fNo35K"
      },
      "source": [
        "# It's a tradition to capitalize the name of the class\n",
        "class Dog:\n",
        "    def __init__(self, name, gender, address):\n",
        "        self.name = name\n",
        "        self.gender = gender\n",
        "        self.address = address\n",
        "    \n",
        "    def run(self):\n",
        "      print('pretend running')\n",
        "\n",
        "    def eat_the_string(self, str_in):\n",
        "      return ''\n",
        "\n",
        "    def do_math_add(self, x1, x2):\n",
        "      return x1 + x2\n"
      ],
      "execution_count": 9,
      "outputs": []
    },
    {
      "cell_type": "code",
      "metadata": {
        "id": "jaroK_XcsKgG",
        "colab": {
          "base_uri": "https://localhost:8080/",
          "height": 0
        },
        "outputId": "b3448bdb-9c52-4d9f-bd87-cb6e65fbf256"
      },
      "source": [
        "dog_1 = Dog('A', 'M', 'Earth')\n",
        "\n",
        "dog_1.run()\n",
        "\n",
        "what_left = dog_1.eat_the_string('a test')\n",
        "print(what_left)\n",
        "\n",
        "number = dog_1.do_math_add(1, 2)\n",
        "print(number)"
      ],
      "execution_count": 10,
      "outputs": [
        {
          "output_type": "stream",
          "name": "stdout",
          "text": [
            "pretend running\n",
            "\n",
            "3\n"
          ]
        }
      ]
    },
    {
      "cell_type": "markdown",
      "metadata": {
        "id": "58yzLk77qsAA"
      },
      "source": [
        "One of the most powerful things is that we can reuse the code we've written, and we can further define sub-classes, say 'Superdog', upon it. To do so, we need to define a new class that inherits from the class we already built."
      ]
    },
    {
      "cell_type": "code",
      "metadata": {
        "id": "np7axmAsqtEH"
      },
      "source": [
        "class SuperDog(Dog):\n",
        "  def __init__(self, name, gender, address):\n",
        "    super().__init__(name, gender, address)\n",
        "    # it now can do what a Dog class can do\n",
        "\n",
        "  # try something make it super\n",
        "  # 1. a new func\n",
        "  def save_the_earth(self):\n",
        "    print('i just saved it but you don\\'t know')\n",
        "\n",
        "  # 2. replace an old func\n",
        "  def run(self):\n",
        "    print('cannot run as i\\'m a super dog')\n",
        "  "
      ],
      "execution_count": 11,
      "outputs": []
    },
    {
      "cell_type": "code",
      "metadata": {
        "id": "kZxhHZowr5OA",
        "colab": {
          "base_uri": "https://localhost:8080/",
          "height": 0
        },
        "outputId": "6e95cd95-3230-4f3d-bffe-4adfed49e081"
      },
      "source": [
        "dog_2 = SuperDog('B', 'M', 'Mars')\n",
        "\n",
        "dog_2.run()\n",
        "\n",
        "dog_2.save_the_earth()\n",
        "\n",
        "result = dog_2.do_math_add(1, 2)\n",
        "print(result)"
      ],
      "execution_count": 12,
      "outputs": [
        {
          "output_type": "stream",
          "name": "stdout",
          "text": [
            "cannot run as i'm a super dog\n",
            "i just saved it but you don't know\n",
            "3\n"
          ]
        }
      ]
    },
    {
      "cell_type": "code",
      "metadata": {
        "id": "iZquvURLtxD6",
        "colab": {
          "base_uri": "https://localhost:8080/",
          "height": 0
        },
        "outputId": "82ab62b9-fe89-4a77-a018-d8d64eff0528"
      },
      "source": [
        "print(\"Python basics\")"
      ],
      "execution_count": 13,
      "outputs": [
        {
          "output_type": "stream",
          "name": "stdout",
          "text": [
            "Python basics\n"
          ]
        }
      ]
    },
    {
      "cell_type": "markdown",
      "metadata": {
        "id": "Hv3Z8qiW1iNA"
      },
      "source": [
        "### iter & next\n",
        "Iterables are objects than can return items in order, the behavior of the iteration is defined in the `__iter__` method. We can use the `next` function to get items one by one.\n",
        "\n",
        "The object `range(N)` is not an iterator but iterable, we need to use the function `iter` with it first in order to use the `next` on it"
      ]
    },
    {
      "cell_type": "code",
      "metadata": {
        "id": "aF1euHCc1BWv",
        "colab": {
          "base_uri": "https://localhost:8080/",
          "height": 212
        },
        "outputId": "14f21170-ec03-4ecd-9965-80b240ef2fb9"
      },
      "source": [
        "print(type(range(10)))\n",
        "next(range(10))"
      ],
      "execution_count": 14,
      "outputs": [
        {
          "output_type": "stream",
          "name": "stdout",
          "text": [
            "<class 'range'>\n"
          ]
        },
        {
          "output_type": "error",
          "ename": "TypeError",
          "evalue": "ignored",
          "traceback": [
            "\u001b[0;31m---------------------------------------------------------------------------\u001b[0m",
            "\u001b[0;31mTypeError\u001b[0m                                 Traceback (most recent call last)",
            "\u001b[0;32m<ipython-input-14-536d0c4edc79>\u001b[0m in \u001b[0;36m<module>\u001b[0;34m\u001b[0m\n\u001b[1;32m      1\u001b[0m \u001b[0mprint\u001b[0m\u001b[0;34m(\u001b[0m\u001b[0mtype\u001b[0m\u001b[0;34m(\u001b[0m\u001b[0mrange\u001b[0m\u001b[0;34m(\u001b[0m\u001b[0;36m10\u001b[0m\u001b[0;34m)\u001b[0m\u001b[0;34m)\u001b[0m\u001b[0;34m)\u001b[0m\u001b[0;34m\u001b[0m\u001b[0;34m\u001b[0m\u001b[0m\n\u001b[0;32m----> 2\u001b[0;31m \u001b[0mnext\u001b[0m\u001b[0;34m(\u001b[0m\u001b[0mrange\u001b[0m\u001b[0;34m(\u001b[0m\u001b[0;36m10\u001b[0m\u001b[0;34m)\u001b[0m\u001b[0;34m)\u001b[0m\u001b[0;34m\u001b[0m\u001b[0;34m\u001b[0m\u001b[0m\n\u001b[0m",
            "\u001b[0;31mTypeError\u001b[0m: 'range' object is not an iterator"
          ]
        }
      ]
    },
    {
      "cell_type": "markdown",
      "metadata": {
        "id": "GG6rbMgh4QXO"
      },
      "source": [
        "Directly using `next` on `range(10)` yields error."
      ]
    },
    {
      "cell_type": "code",
      "metadata": {
        "id": "BElxLB514PNL",
        "colab": {
          "base_uri": "https://localhost:8080/",
          "height": 0
        },
        "outputId": "c60208e7-f18b-45d3-c972-b1c869890b16"
      },
      "source": [
        "iterator_of_range = iter(range(10))\n",
        "print(next(iterator_of_range))\n",
        "print(next(iterator_of_range))"
      ],
      "execution_count": 15,
      "outputs": [
        {
          "output_type": "stream",
          "name": "stdout",
          "text": [
            "0\n",
            "1\n"
          ]
        }
      ]
    },
    {
      "cell_type": "markdown",
      "metadata": {
        "id": "WCo2eAaigvVO"
      },
      "source": [
        "If `range(N)` is not iterator, why it still works when we use `range(N)` in the for-loop?\n",
        "\n",
        "When an object is about to be iterated over in the `for` loop, python will first check if the object is already an iterator, if not, the function `iter` will be called automatically, and then the `for` loop goes through the iterator by using the `next` function just like we did.\n",
        "\n",
        "We will go further in later tutorial for PyTorch about the `iter` and `next`."
      ]
    },
    {
      "cell_type": "markdown",
      "metadata": {
        "id": "ddF0totqc6AL"
      },
      "source": [
        "On top of the iterator, we can further coat it with something else, for example, `enumerate` and return a count with the item yielded by the iterator."
      ]
    },
    {
      "cell_type": "code",
      "metadata": {
        "id": "EMZSXOHkc22u",
        "colab": {
          "base_uri": "https://localhost:8080/",
          "height": 0
        },
        "outputId": "aa6ffc6b-d793-4ac7-e160-dcc818837ec7"
      },
      "source": [
        "string = 'abcde'\n",
        "for count, char in enumerate(string):\n",
        "    print(f'the {count}th character is {char}')"
      ],
      "execution_count": 16,
      "outputs": [
        {
          "output_type": "stream",
          "name": "stdout",
          "text": [
            "the 0th character is a\n",
            "the 1th character is b\n",
            "the 2th character is c\n",
            "the 3th character is d\n",
            "the 4th character is e\n"
          ]
        }
      ]
    },
    {
      "cell_type": "markdown",
      "metadata": {
        "id": "w2MY9UZ2iTHC"
      },
      "source": [
        "We can also combine two iterators together with `zip`"
      ]
    },
    {
      "cell_type": "code",
      "metadata": {
        "id": "VeUASdIdiO3T",
        "colab": {
          "base_uri": "https://localhost:8080/",
          "height": 0
        },
        "outputId": "5a442410-3eb1-491d-b0c1-a431578bedb1"
      },
      "source": [
        "lst1 = [1,2,3]\n",
        "lst2 = ['a','b','c']\n",
        "for num, char in zip(lst1, lst2):\n",
        "    print('item from lst1: {}, item from lst2: {}'.format(num, char))"
      ],
      "execution_count": 17,
      "outputs": [
        {
          "output_type": "stream",
          "name": "stdout",
          "text": [
            "item from lst1: 1, item from lst2: a\n",
            "item from lst1: 2, item from lst2: b\n",
            "item from lst1: 3, item from lst2: c\n"
          ]
        }
      ]
    },
    {
      "cell_type": "markdown",
      "metadata": {
        "id": "UK8i7VKFTVVN"
      },
      "source": [
        "## Simple Quiz"
      ]
    },
    {
      "cell_type": "code",
      "metadata": {
        "id": "hPOK7GnV5G1-"
      },
      "source": [
        "class RandomTool:\n",
        "  def __init__(self):\n",
        "     pass\n",
        "\n",
        "  def enlarge(slef, in_list, N_times):\n",
        "  # return a list with items that's N times the value of items of \n",
        "  #another list  using **lambda** and **map**\n",
        "  # e.g.:\n",
        "  # in_list = [10, 20]\n",
        "  # N_times = 10\n",
        "  # randomtool.repeat(in_list, N) returns [100, 200]\n",
        "  def repeat(self, str_list, N_times):\n",
        "  # return a list with items that repeats N times the strings of items of\n",
        "  # another list  using **lambda** and **map**\n",
        "  # e.g.:\n",
        "  # str_list = ['haha']\n",
        "  # N_times = 2\n",
        "  # randomtool.repeat(str_list, N_times) returns ['hahahaha']\n",
        "\n",
        "tool = RandomTool()\n",
        "print(tool.enlarge([1, 2, 3], 3))\n",
        "print(tool.repeat(['a', 'b'], 5))"
      ],
      "execution_count": null,
      "outputs": []
    }
  ]
}