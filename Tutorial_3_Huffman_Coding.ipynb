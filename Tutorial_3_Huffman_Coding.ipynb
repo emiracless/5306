{
  "nbformat": 4,
  "nbformat_minor": 0,
  "metadata": {
    "colab": {
      "provenance": []
    },
    "kernelspec": {
      "name": "python3",
      "display_name": "Python 3"
    },
    "language_info": {
      "name": "python"
    }
  },
  "cells": [
    {
      "cell_type": "markdown",
      "source": [
        "# **Huffman Coding**\n",
        "In the previous lecture, we have mentioned about the huffman coding. Huffman coding is a data compression algorithm that assigns variable-length codes to characters based on their frequency of occurrence in the input data. By using shorter codes for more frequent characters and longer codes for less frequent characters, Huffman coding can reduce the number of bits required to represent the data, thus achieving compression.\n",
        "\n",
        "During this session, we shall endeavor to implement Huffman coding."
      ],
      "metadata": {
        "id": "f1V3sPFmFywQ"
      }
    },
    {
      "cell_type": "markdown",
      "source": [
        "# Huffman Encoding\n",
        "Suppose you have the following message:\n",
        "\n",
        "  \"Welcome to ELEC5306\"\n",
        "\n",
        "In the following secsions, we will Huffman Coding to encode this message and decode the compressed message as well."
      ],
      "metadata": {
        "id": "9I9tbav2F2AB"
      }
    },
    {
      "cell_type": "code",
      "source": [
        "message = \"Welcome to the course, ELEC5306: Video Intelligence and Compression.\""
      ],
      "metadata": {
        "id": "_GmCAQX2K4je"
      },
      "execution_count": 56,
      "outputs": []
    },
    {
      "cell_type": "markdown",
      "source": [
        "To compress this message, we first need to calculate the frequency of each character in the message. Below is an example funcion that takes a tring as input and generate a dictionary as the frequency table."
      ],
      "metadata": {
        "id": "atbkXdMVK_ln"
      }
    },
    {
      "cell_type": "code",
      "source": [
        "from collections import defaultdict\n",
        "\n",
        "# Define a function to generate a frequency table of characters in a string\n",
        "def get_char_freq(string):\n",
        "    char_freq = defaultdict(int)\n",
        "    for char in string:\n",
        "        char_freq[char] += 1\n",
        "    return char_freq\n",
        "\n",
        "# Check the output for a string input\n",
        "char_freq = get_char_freq(message)\n",
        "print(char_freq)"
      ],
      "metadata": {
        "colab": {
          "base_uri": "https://localhost:8080/"
        },
        "id": "TgQT0JzBKyK8",
        "outputId": "ce93e0da-9413-4a21-a1b5-eadcfa20134b"
      },
      "execution_count": 57,
      "outputs": [
        {
          "output_type": "stream",
          "name": "stdout",
          "text": [
            "defaultdict(<class 'int'>, {'W': 1, 'e': 9, 'l': 3, 'c': 3, 'o': 6, 'm': 2, ' ': 8, 't': 3, 'h': 1, 'u': 1, 'r': 2, 's': 3, ',': 1, 'E': 2, 'L': 1, 'C': 2, '5': 1, '3': 1, '0': 1, '6': 1, ':': 1, 'V': 1, 'i': 3, 'd': 2, 'I': 1, 'n': 4, 'g': 1, 'a': 1, 'p': 1, '.': 1})\n"
          ]
        }
      ]
    },
    {
      "cell_type": "markdown",
      "source": [
        "Next, we need to construct a binary tree based on the character frequencies. The Huffman algorithm starts by creating a leaf node for each character, and then repeatedly merging the two nodes with the lowest frequencies until there is only one node left, which becomes the root of the tree.\n",
        "\n",
        "First of all, let's define a class for the nodes which we will frequently use in the Huffman tree."
      ],
      "metadata": {
        "id": "I1Lzyl57KuoC"
      }
    },
    {
      "cell_type": "code",
      "source": [
        "# Define a class for the nodes in the Huffman tree\n",
        "class Node:\n",
        "    def __init__(self, char=None, freq=0, left=None, right=None):\n",
        "        self.char = char\n",
        "        self.freq = freq\n",
        "        self.left = left\n",
        "        self.right = right\n",
        "\n",
        "    def __lt__(self, other):\n",
        "        return self.freq < other.freq"
      ],
      "metadata": {
        "id": "vAzk1zF-Lzzw"
      },
      "execution_count": 58,
      "outputs": []
    },
    {
      "cell_type": "markdown",
      "source": [
        "\"heapq\" provides an implementation of the Heap Queue algorithm, also known as the priority queue algorithm. Heaps are binary trees for which every parent node has a value less than or equal to any of its children.\n",
        "\n",
        "We can use \"heapq\" module to create a function which generate the Huffman tree with the character frequencies. "
      ],
      "metadata": {
        "id": "6GnZnZg3L3sd"
      }
    },
    {
      "cell_type": "code",
      "source": [
        "import heapq\n",
        "\n",
        "# Define a function to build the Huffman tree\n",
        "def build_tree(char_freq):\n",
        "    pq = [Node(char, freq) for char, freq in char_freq.items()]\n",
        "    heapq.heapify(pq)\n",
        "\n",
        "    while len(pq) > 1:\n",
        "        left = heapq.heappop(pq)\n",
        "        right = heapq.heappop(pq)\n",
        "        parent = Node(freq=left.freq + right.freq, left=left, right=right)\n",
        "        heapq.heappush(pq, parent)\n",
        "\n",
        "    return pq[0]\n",
        "\n",
        "tree_root = build_tree(char_freq)\n",
        "print(tree_root)"
      ],
      "metadata": {
        "colab": {
          "base_uri": "https://localhost:8080/"
        },
        "id": "R8V1c8C7L34M",
        "outputId": "9a6c4de8-37f3-4859-bd28-f07d778d55eb"
      },
      "execution_count": 65,
      "outputs": [
        {
          "output_type": "stream",
          "name": "stdout",
          "text": [
            "<__main__.Node object at 0x7f9798519160>\n"
          ]
        }
      ]
    },
    {
      "cell_type": "markdown",
      "source": [
        "Now we have the binary tree, we can assign a binary code to each character by traversing the tree from the root to the leaf. Each time we go left, we append a 0 to the code, and each time we go right, we append a 1."
      ],
      "metadata": {
        "id": "PLAcF2UIL6nJ"
      }
    },
    {
      "cell_type": "code",
      "source": [
        "# Define a function to generate a lookup table of character codes\n",
        "def generate_lookup_table(root):\n",
        "    lookup_table = {}\n",
        "\n",
        "    def traverse(node, code):\n",
        "        if node.char:\n",
        "            lookup_table[node.char] = code\n",
        "        else:\n",
        "            traverse(node.left, code + \"0\")\n",
        "            traverse(node.right, code + \"1\")\n",
        "\n",
        "    traverse(root, \"\")\n",
        "    return lookup_table\n",
        "\n",
        "lookup_tab = generate_lookup_table(tree_root)\n",
        "print(lookup_tab)"
      ],
      "metadata": {
        "colab": {
          "base_uri": "https://localhost:8080/"
        },
        "id": "ZGo2U4f2L6xq",
        "outputId": "0e0fb1f1-ab2c-4508-dc51-61141a8da492"
      },
      "execution_count": 64,
      "outputs": [
        {
          "output_type": "stream",
          "name": "stdout",
          "text": [
            "{'o': '000', '0': '001000', 'h': '001001', '3': '001010', '5': '001011', 'd': '00110', 'r': '00111', ' ': '010', 'n': '0110', 'E': '01110', '.': '011110', 'L': '011111', 'p': '100000', 'a': '100001', 'C': '10001', 'm': '10010', 'W': '100110', 'g': '100111', 'e': '101', ',': '110000', 'I': '110001', 'V': '110010', ':': '110011', 'u': '110100', '6': '110101', 'l': '11011', 's': '11100', 't': '11101', 'i': '11110', 'c': '11111'}\n"
          ]
        }
      ]
    },
    {
      "cell_type": "markdown",
      "source": [
        "We are almost finished. Now it's your turn to complete the encoder and decoder with the Huffman table."
      ],
      "metadata": {
        "id": "qb1qTvFrL9zl"
      }
    },
    {
      "cell_type": "code",
      "source": [
        "# Define a function to encode a string using the Huffman tree\n",
        "def encode(string, lookup_table):\n",
        "    pass\n",
        "\n",
        "\n",
        "encoded_message = encode(message, lookup_tab)\n",
        "print(encoded_message)"
      ],
      "metadata": {
        "id": "gUW850aoL-YM"
      },
      "execution_count": null,
      "outputs": []
    },
    {
      "cell_type": "markdown",
      "source": [
        "Below is the correct answer, you can verify your result by running the following code."
      ],
      "metadata": {
        "id": "9k41unFJXXK_"
      }
    },
    {
      "cell_type": "code",
      "source": [
        "encoded_msg = \"100110101110111111100010010101010111010000101110100100110101011111000110100001111110010111000001001110011111011101000100101100101000100011010111001101011001011110001101010000101100010110111011011101111011111101001111010110111111010101000010110001100101000100010010100000001111011110011100111100000110011110\"\n",
        "print(encoded_message == encoded_msg)"
      ],
      "metadata": {
        "colab": {
          "base_uri": "https://localhost:8080/"
        },
        "id": "FhQB42PrVyHs",
        "outputId": "7d819190-04f9-4637-9466-0dcf18d7f9d5"
      },
      "execution_count": 69,
      "outputs": [
        {
          "output_type": "stream",
          "name": "stdout",
          "text": [
            "True\n"
          ]
        }
      ]
    },
    {
      "cell_type": "markdown",
      "source": [
        "Once you complete the encoder, try to complete the decoder as well. You can try to decode the provided code \"encoded_msg\" first if you are not sure with your answer."
      ],
      "metadata": {
        "id": "UF5MDXmFMAoN"
      }
    },
    {
      "cell_type": "code",
      "source": [
        "# Define a function to decode a string using the Huffman tree\n",
        "def decode(encoded_string, root):\n",
        "    pass\n",
        "\n",
        "\n",
        "decoded_message = decode(encoded_message, tree_root)\n",
        "print(decoded_message)"
      ],
      "metadata": {
        "colab": {
          "base_uri": "https://localhost:8080/"
        },
        "id": "frALaNbeMBwW",
        "outputId": "641e29b2-def6-46fb-99df-cb9fe2c9f858"
      },
      "execution_count": 70,
      "outputs": [
        {
          "output_type": "stream",
          "name": "stdout",
          "text": [
            "Welcome to the course, ELEC5306: Video Intelligence and Compression.\n"
          ]
        }
      ]
    }
  ]
}