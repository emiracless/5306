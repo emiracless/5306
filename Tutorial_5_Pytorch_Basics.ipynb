{
  "cells": [
    {
      "cell_type": "markdown",
      "metadata": {
        "id": "FZidUeJFZTYW"
      },
      "source": [
        "# Pytorch Basics\n",
        "\n",
        "Pytorch is a library that supports automatic differentiation based on a system that can generate computational graphs.\n",
        "\n",
        "In the first part, we'll check an example where we try to fit a linear function onto a set of data points."
      ]
    },
    {
      "cell_type": "markdown",
      "metadata": {
        "id": "eTHuM9qrZTYY"
      },
      "source": [
        "## Tensors\n",
        "\n",
        "Very much like the array in Numpy, the core class in pytorch is tensor, almost all operations are done with tensors, the interfaces and logics of tensor is almost identical to numpy array, you can define, calculate them in the same way."
      ]
    },
    {
      "cell_type": "code",
      "execution_count": 1,
      "metadata": {
        "id": "vrfiMfPqZTYY",
        "outputId": "b3596df5-cfd5-456c-e14f-55ef42dfb7a8",
        "colab": {
          "base_uri": "https://localhost:8080/",
          "height": 0
        }
      },
      "outputs": [
        {
          "output_type": "stream",
          "name": "stdout",
          "text": [
            "Random noise tensor: \n",
            "tensor([[-0.3832,  1.5449,  0.4372],\n",
            "        [ 1.0938, -0.6512, -0.5688],\n",
            "        [-0.4532,  1.4161,  1.0082]])\n",
            "\n",
            "Arithmetic progression tensor: \n",
            "tensor([0.0000, 0.3000, 0.6000, 0.9000, 1.2000, 1.5000, 1.8000])\n",
            "\n",
            "Diagonal tensor: \n",
            "tensor([[1, 0, 0],\n",
            "        [0, 2, 0],\n",
            "        [0, 0, 3]])\n"
          ]
        }
      ],
      "source": [
        "import torch\n",
        "\n",
        "print(f'Random noise tensor: \\n{torch.randn(3,3)}\\n')\n",
        "print(f'Arithmetic progression tensor: \\n{torch.arange(0,2, 0.3)}\\n')\n",
        "print(f'Diagonal tensor: \\n{torch.diag(torch.tensor([1,2,3]))}')"
      ]
    },
    {
      "cell_type": "markdown",
      "metadata": {
        "id": "7_mj8_QXZTYZ"
      },
      "source": [
        "First off, let's generate some synthetic data. Assuming our probabilistic model here is $y = \\alpha * x + \\beta + \\epsilon$, where $\\epsilon$ is random noise from a normal distribution. Let's sample some data from this model and illustrate them."
      ]
    },
    {
      "cell_type": "code",
      "execution_count": 85,
      "metadata": {
        "id": "zUZQVIcjZTYZ",
        "outputId": "6741624d-89f9-48fb-a958-e3ccaf1d74d7",
        "colab": {
          "base_uri": "https://localhost:8080/",
          "height": 448
        }
      },
      "outputs": [
        {
          "output_type": "execute_result",
          "data": {
            "text/plain": [
              "<matplotlib.collections.PathCollection at 0x7f60d0bd2970>"
            ]
          },
          "metadata": {},
          "execution_count": 85
        },
        {
          "output_type": "display_data",
          "data": {
            "text/plain": [
              "<Figure size 640x480 with 1 Axes>"
            ],
            "image/png": "[encoded data removed]"
          },
          "metadata": {}
        }
      ],
      "source": [
        "import torch\n",
        "import matplotlib.pyplot as plt\n",
        "\n",
        "alpha = 0.5\n",
        "beta = 10\n",
        "gamma = 0.8\n",
        "\n",
        "x = torch.arange(0,20).to(torch.float32)\n",
        "\n",
        "y = alpha * x + beta + gamma * torch.randn_like(x)\n",
        "\n",
        "plt.scatter(x, y)"
      ]
    },
    {
      "cell_type": "markdown",
      "metadata": {
        "id": "lsEegMbtZTYZ"
      },
      "source": [
        "Now we want to estimate the real $\\alpha$ and $\\beta$ given the data. Let's define them first,"
      ]
    },
    {
      "cell_type": "code",
      "execution_count": 86,
      "metadata": {
        "id": "sCp-cwEkZTYa"
      },
      "outputs": [],
      "source": [
        "alpha_est = torch.tensor([0.], requires_grad=True)\n",
        "beta_est = torch.tensor([0.], requires_grad=True)\n",
        "\n",
        "iter = 0\n",
        "alpha_values = [alpha_est.detach().item()]\n",
        "beta_values = [beta_est.detach().item()]\n",
        "delta_values = []"
      ]
    },
    {
      "cell_type": "markdown",
      "metadata": {
        "id": "vfFoJYH9ZTYa"
      },
      "source": [
        "The reason I set `requires_grad` to true is that these are the parameters we want to receive gradients and adjust according to how well they fit the dataset.\n",
        "\n",
        "Thus the first thing we need to do is to define \"how well they fit the dataset\", which is pretty straightforward, we define the distance as $\\Delta = | y - \\hat{y}|$, where $\\hat{y}$ is the sample data, and $y = \\alpha \\hat{x} + \\beta$, $\\alpha$ and $\\beta$ are `alpha_est` and `beta_est` respectively. By differentiating $\\Delta$ with respect to $\\alpha$ and $\\beta$, we can get the gradients on $\\alpha$ and $\\beta$ and see how they should adjust to fit the data better.\n",
        "\n",
        "Here's how we should do all of this for once."
      ]
    },
    {
      "cell_type": "code",
      "execution_count": 87,
      "metadata": {
        "id": "prYgjPKvZTYa",
        "outputId": "6a2c57d9-7e51-4e20-fc88-ae35a28e9c1d",
        "colab": {
          "base_uri": "https://localhost:8080/",
          "height": 0
        }
      },
      "outputs": [
        {
          "output_type": "stream",
          "name": "stdout",
          "text": [
            "Delta before: 302.53094482421875, grad on alpha: None, grad on beta: None\n",
            "alpha before: tensor([0.], requires_grad=True), beta before: tensor([0.], requires_grad=True)\n",
            "grad on alpha: tensor([-190.]), grad on beta: tensor([-20.])\n",
            "Delta after: 266.0309143066406\n",
            "alpha after: tensor([0.1900], requires_grad=True), beta after: tensor([0.0200], requires_grad=True)\n"
          ]
        }
      ],
      "source": [
        "import torch.optim as optim\n",
        "optimizor = optim.SGD([alpha_est, beta_est], lr=0.001)\n",
        "\n",
        "delta_before = ((alpha_est * x + beta_est - y).abs()).sum()\n",
        "delta_values.append(delta_before.detach().item())\n",
        "print(f'Delta before: {delta_before}, grad on alpha: {alpha_est.grad}, grad on beta: {beta_est.grad}')\n",
        "print(f'alpha before: {alpha_est}, beta before: {beta_est}')\n",
        "delta_before.backward()\n",
        "print(f'grad on alpha: {alpha_est.grad}, grad on beta: {beta_est.grad}')\n",
        "optimizor.step()\n",
        "delta_after = ((alpha_est * x + beta_est - y).abs()).sum()\n",
        "print(f'Delta after: {delta_after}')\n",
        "print(f'alpha after: {alpha_est}, beta after: {beta_est}')\n",
        "\n",
        "iter += 1\n",
        "alpha_values.append(alpha_est.detach().item())\n",
        "beta_values.append(beta_est.detach().item())\n",
        "delta_values.append(delta_after.detach().item())"
      ]
    },
    {
      "cell_type": "markdown",
      "metadata": {
        "id": "xlyhn2FpZTYa"
      },
      "source": [
        "Let's check what the optimizor did"
      ]
    },
    {
      "cell_type": "code",
      "execution_count": 88,
      "metadata": {
        "id": "K6OQssruZTYa",
        "outputId": "3ff42a7c-701f-46f3-8f60-7b5d5e1227ff",
        "colab": {
          "base_uri": "https://localhost:8080/",
          "height": 0
        }
      },
      "outputs": [
        {
          "output_type": "execute_result",
          "data": {
            "text/plain": [
              "tensor([0.], grad_fn=<AddBackward0>)"
            ]
          },
          "metadata": {},
          "execution_count": 88
        }
      ],
      "source": [
        "alpha_est + 0.001 * alpha_est.grad"
      ]
    },
    {
      "cell_type": "markdown",
      "metadata": {
        "id": "VJVOfYkLZTYa"
      },
      "source": [
        "Let's do this for many times to see how the `alpha_est` and `beta_est` change"
      ]
    },
    {
      "cell_type": "code",
      "execution_count": 89,
      "metadata": {
        "id": "mXYln0obZTYb"
      },
      "outputs": [],
      "source": [
        "optimizor = optim.SGD([alpha_est, beta_est], lr=0.001)"
      ]
    },
    {
      "cell_type": "code",
      "execution_count": 90,
      "metadata": {
        "id": "FLqRxh4qZTYb",
        "outputId": "89579c8d-af5e-4705-b5da-d346f0f11bc7",
        "colab": {
          "base_uri": "https://localhost:8080/",
          "height": 431
        }
      },
      "outputs": [
        {
          "output_type": "display_data",
          "data": {
            "text/plain": [
              "<Figure size 640x480 with 1 Axes>"
            ],
            "image/png": "[encoded data removed]"
          },
          "metadata": {}
        }
      ],
      "source": [
        "ITER = 1000\n",
        "def iter_color(i, ITER):\n",
        "    return (i / ITER, 0, 1 - i / ITER, 0.02)\n",
        "for i in range(ITER):\n",
        "    delta = ((alpha_est * x + beta_est - y).abs()).sum()\n",
        "    optimizor.zero_grad()\n",
        "    delta.backward()\n",
        "    optimizor.step()\n",
        "    with torch.no_grad():\n",
        "        plt.scatter(x, y)\n",
        "        y_est = alpha_est * x + beta_est\n",
        "        plt.plot(x, y_est, color=iter_color(i, ITER))\n",
        "        iter += 1\n",
        "        alpha_values.append(alpha_est.detach().item())\n",
        "        beta_values.append(beta_est.detach().item())\n",
        "        delta_values.append(delta.detach().item())\n"
      ]
    },
    {
      "cell_type": "code",
      "execution_count": 91,
      "metadata": {
        "id": "VaoqP42TZTYb",
        "outputId": "9d716ada-2ab9-4353-9719-0df646836de0",
        "colab": {
          "base_uri": "https://localhost:8080/",
          "height": 0
        }
      },
      "outputs": [
        {
          "output_type": "stream",
          "name": "stdout",
          "text": [
            "alpha: tensor([0.6540], requires_grad=True), beta: tensor([8.1460], requires_grad=True)\n"
          ]
        }
      ],
      "source": [
        "print(f'alpha: {alpha_est}, beta: {beta_est}')"
      ]
    },
    {
      "cell_type": "markdown",
      "metadata": {
        "id": "QxNLIzG_ZTYb"
      },
      "source": [
        "Let's also plot how the parameters and delta change over the iteration"
      ]
    },
    {
      "cell_type": "code",
      "execution_count": 92,
      "metadata": {
        "id": "r2tcQPwrZTYb",
        "outputId": "c5041505-0a2b-48dd-f9e8-5654ddc1e66f",
        "colab": {
          "base_uri": "https://localhost:8080/",
          "height": 430
        }
      },
      "outputs": [
        {
          "output_type": "display_data",
          "data": {
            "text/plain": [
              "<Figure size 640x480 with 1 Axes>"
            ],
            "image/png": "[encoded data removed]"
          },
          "metadata": {}
        }
      ],
      "source": [
        "import numpy as np\n",
        "plt.plot(np.arange(len(alpha_values)), np.array(alpha_values), label='alpha')\n",
        "plt.plot(np.arange(len(beta_values)), np.array(beta_values), label='beta')\n",
        "plt.legend()\n",
        "plt.show()"
      ]
    },
    {
      "cell_type": "code",
      "execution_count": 94,
      "metadata": {
        "id": "jmHGsD-7ZTYb",
        "outputId": "2b67c758-712d-4eba-f0e6-b8e6747a3ca1",
        "colab": {
          "base_uri": "https://localhost:8080/",
          "height": 430
        }
      },
      "outputs": [
        {
          "output_type": "display_data",
          "data": {
            "text/plain": [
              "<Figure size 640x480 with 1 Axes>"
            ],
            "image/png": "[encoded data removed]"
          },
          "metadata": {}
        }
      ],
      "source": [
        "plt.plot(np.arange(len(delta_values)), np.array(delta_values), label='delta')\n",
        "plt.legend()\n",
        "plt.show()"
      ]
    },
    {
      "cell_type": "markdown",
      "metadata": {
        "id": "yb9KCavRPR5Z"
      },
      "source": [
        "# Pytorch Dataset\n",
        "Now that we understood how the pytorch basically works including the data part, the differentiation part, we can crank up each part respectively to the real world situation. In today's tutorial, we'll only introduce the data part, and in the next one, we'll get to the complete training pipeline of a neural network. Because the operations in torch require some specific data formats, it'll be a lot easier to learn the actual network operations if we have datasets in our hand.\n",
        "\n",
        "When we installed pytorch, we installed another library along with it, called torchvision (you don't need to install it on colab, as torchvision is built-in), this is a library that stores the information needed to harness some very popular and common datasets that we use a lot, like CIFAR and MNIST, we will show how to utilize it to provide the data in the way that we want.\n",
        "\n",
        "Like always, we need to import first."
      ]
    },
    {
      "cell_type": "code",
      "execution_count": 95,
      "metadata": {
        "id": "Dwuo-GB0v8TS"
      },
      "outputs": [],
      "source": [
        "import torchvision"
      ]
    },
    {
      "cell_type": "markdown",
      "metadata": {
        "id": "_kXDFNqTRXUG"
      },
      "source": [
        "Let's try the MNIST dataset first, which is a dataset contains thousands of hand written number images"
      ]
    },
    {
      "cell_type": "code",
      "execution_count": 96,
      "metadata": {
        "id": "8D03PpocRhGc",
        "colab": {
          "base_uri": "https://localhost:8080/",
          "height": 439,
          "referenced_widgets": [
            "54e9b32c7750487cb4f28e368d7c6538",
            "44d2252f03e94cd29c9cc2c2fcae579e",
            "ce36ab5b769d474cad1f9f9e6fc23b49",
            "1f5a912e34c74ae8a0639d0f305c17b6",
            "a1c6dddd4d914b23adb0a3a7445f29d8",
            "34d9ffc3b5c94737b094f1c0c3cdb167",
            "8d87a9ec526f4317a6cf8360f22a2f26",
            "5038a06280cb4b3b97f989afb7fd3ead",
            "a63ebe260c6b48b3abcb863a056ed08d",
            "3ef169706b544d478e863ce05d14c53b",
            "a096e57934884cdba9de9b1bab3080b9",
            "445f304b296a4aaca2210f021d3435ab",
            "022dc9283326416590e816ab827ecba7",
            "aa9885971c6747a296e7eba343ac29c3",
            "fa61dbd495194031bb230ee5905cd8bb",
            "1abba49d6d1a4941979a17bd3118eba5",
            "cb84f787fb164348b81f0663d3f336e7",
            "610b971b198d4361b9047f995a38c904",
            "d3a4591801244877a1f8b35e4d2d5ebe",
            "39b0d29eb55c471ea8bce74d893a082e",
            "cf72cdcaddeb4f748c036078e1245f8c",
            "af2fee6fef9249ba97fc2fff08cc7511",
            "a71c1df9c07b4425964a7bbe431e136b",
            "d85452e1ecaa405a9ebe455716c3ba4c",
            "18717b43cfce4efeaadf94a5567978c8",
            "94d6325f8a444c9aa47a3ebe5552b9a4",
            "77cc0fbec66d4911af6b29b81589a19c",
            "3343c2efc1b945bbb69f2d7e904982fb",
            "05d76529061f44cea037bce4d042f8a9",
            "4db300c83a1548dfac04ecc77320fbaa",
            "958c0833e4f14df58200fa2b6f021d25",
            "157a3d588df94cff999c716b0e31a91b",
            "100e32cbbd6e43459450b3d4a10cf348",
            "fcebe2e489774e69bd83fa1499969ea0",
            "e0ba8f6945b9451fbf14607292c544d8",
            "30fe54b2793d49a291cb1818857735be",
            "86e61b7ac3fa49078524ffd76032dcc7",
            "a3cd5154661a49b587a7ee88f45c29f8",
            "cc4d5d42b6e54ee792f9284cb44ae5cc",
            "b435abe46a8a4532ab68f172a7c49162",
            "79dc017d8d224d3090ef2d6443599b17",
            "6733472db8514921b34b4d7bd598ca86",
            "9453c2ca8ee0484faa1a262a368abd8a",
            "422929650915436d8dc80cba136a09a8"
          ]
        },
        "outputId": "6a66380a-ad94-47d7-ad67-b74a320a306c"
      },
      "outputs": [
        {
          "output_type": "stream",
          "name": "stdout",
          "text": [
            "Downloading http://yann.lecun.com/exdb/mnist/train-images-idx3-ubyte.gz\n",
            "Downloading http://yann.lecun.com/exdb/mnist/train-images-idx3-ubyte.gz to MNIST/MNIST/raw/train-images-idx3-ubyte.gz\n"
          ]
        },
        {
          "output_type": "display_data",
          "data": {
            "text/plain": [
              "  0%|          | 0/9912422 [00:00<?, ?it/s]"
            ],
            "application/vnd.jupyter.widget-view+json": {
              "version_major": 2,
              "version_minor": 0,
              "model_id": "54e9b32c7750487cb4f28e368d7c6538"
            }
          },
          "metadata": {}
        },
        {
          "output_type": "stream",
          "name": "stdout",
          "text": [
            "Extracting MNIST/MNIST/raw/train-images-idx3-ubyte.gz to MNIST/MNIST/raw\n",
            "\n",
            "Downloading http://yann.lecun.com/exdb/mnist/train-labels-idx1-ubyte.gz\n",
            "Downloading http://yann.lecun.com/exdb/mnist/train-labels-idx1-ubyte.gz to MNIST/MNIST/raw/train-labels-idx1-ubyte.gz\n"
          ]
        },
        {
          "output_type": "display_data",
          "data": {
            "text/plain": [
              "  0%|          | 0/28881 [00:00<?, ?it/s]"
            ],
            "application/vnd.jupyter.widget-view+json": {
              "version_major": 2,
              "version_minor": 0,
              "model_id": "445f304b296a4aaca2210f021d3435ab"
            }
          },
          "metadata": {}
        },
        {
          "output_type": "stream",
          "name": "stdout",
          "text": [
            "Extracting MNIST/MNIST/raw/train-labels-idx1-ubyte.gz to MNIST/MNIST/raw\n",
            "\n",
            "Downloading http://yann.lecun.com/exdb/mnist/t10k-images-idx3-ubyte.gz\n",
            "Downloading http://yann.lecun.com/exdb/mnist/t10k-images-idx3-ubyte.gz to MNIST/MNIST/raw/t10k-images-idx3-ubyte.gz\n"
          ]
        },
        {
          "output_type": "display_data",
          "data": {
            "text/plain": [
              "  0%|          | 0/1648877 [00:00<?, ?it/s]"
            ],
            "application/vnd.jupyter.widget-view+json": {
              "version_major": 2,
              "version_minor": 0,
              "model_id": "a71c1df9c07b4425964a7bbe431e136b"
            }
          },
          "metadata": {}
        },
        {
          "output_type": "stream",
          "name": "stdout",
          "text": [
            "Extracting MNIST/MNIST/raw/t10k-images-idx3-ubyte.gz to MNIST/MNIST/raw\n",
            "\n",
            "Downloading http://yann.lecun.com/exdb/mnist/t10k-labels-idx1-ubyte.gz\n",
            "Downloading http://yann.lecun.com/exdb/mnist/t10k-labels-idx1-ubyte.gz to MNIST/MNIST/raw/t10k-labels-idx1-ubyte.gz\n"
          ]
        },
        {
          "output_type": "display_data",
          "data": {
            "text/plain": [
              "  0%|          | 0/4542 [00:00<?, ?it/s]"
            ],
            "application/vnd.jupyter.widget-view+json": {
              "version_major": 2,
              "version_minor": 0,
              "model_id": "fcebe2e489774e69bd83fa1499969ea0"
            }
          },
          "metadata": {}
        },
        {
          "output_type": "stream",
          "name": "stdout",
          "text": [
            "Extracting MNIST/MNIST/raw/t10k-labels-idx1-ubyte.gz to MNIST/MNIST/raw\n",
            "\n"
          ]
        }
      ],
      "source": [
        "mnist_train = torchvision.datasets.MNIST(\"MNIST\", train=True, transform=None, target_transform=None, download=True)"
      ]
    },
    {
      "cell_type": "markdown",
      "metadata": {
        "id": "4zQjouciSCj1"
      },
      "source": [
        "- the first argument `\"MNIST\"` points out the folder where the dataset will be stored\n",
        "- `train=True` indicates that this will be the training set\n",
        "- `transfrom`/`target_transform` are the functions to modify the input data and the ground truth labels (target) in case you are not satisfied with the current form of data (for example, you want extra white bezels around images\n",
        "- `download=True` tells the function to download the dataset if it can't find the existing dataset in the indicated folder"
      ]
    },
    {
      "cell_type": "markdown",
      "metadata": {
        "id": "pFBWCZOiSCj2"
      },
      "source": [
        "this `mnist_train` is an iterable item, which means that if you do\n",
        "```python\n",
        "for item in mnist_train:\n",
        "    print(item)\n",
        "```\n",
        "you will iterate over all the items stored inside the object.\n",
        "**More importantly, all datasets comply with a certain protocol such that they all support `__getitem__` method,**\n",
        "which means that we can easily access these data by using index!\n",
        "Let's pick out one."
      ]
    },
    {
      "cell_type": "code",
      "execution_count": 97,
      "metadata": {
        "colab": {
          "base_uri": "https://localhost:8080/",
          "height": 0
        },
        "id": "q7Z-l53tSCj2",
        "outputId": "b2e7be1a-ccba-4735-bc4f-2a30ad1ca3ad"
      },
      "outputs": [
        {
          "output_type": "stream",
          "name": "stdout",
          "text": [
            "(<PIL.Image.Image image mode=L size=28x28 at 0x7F60CD2E69D0>, 5)\n"
          ]
        }
      ],
      "source": [
        "example_datum = mnist_train[0]\n",
        "print(example_datum)"
      ]
    },
    {
      "cell_type": "markdown",
      "metadata": {
        "id": "Jr68kqxaSCj2"
      },
      "source": [
        "You can see that each datum is a tuple made up from an image and a label.\n",
        "\n",
        "You don't need to understand what this `PIL.Image.Image` class is, all you need to know is that it can be translated to numpy with `numpy.array`, just call it upon the image.\n",
        "\n",
        "Let's transform the image to the (H x W x C) numpy arrays that we are familiar with."
      ]
    },
    {
      "cell_type": "code",
      "execution_count": 98,
      "metadata": {
        "colab": {
          "base_uri": "https://localhost:8080/",
          "height": 0
        },
        "id": "zYCTIvmNSCj3",
        "outputId": "43d3f1a2-94a6-44a9-fdd3-94f771fc782d"
      },
      "outputs": [
        {
          "output_type": "stream",
          "name": "stdout",
          "text": [
            "(28, 28)\n"
          ]
        }
      ],
      "source": [
        "raw_image = example_datum[0]\n",
        "example_image = np.array(raw_image)\n",
        "print(example_image.shape)"
      ]
    },
    {
      "cell_type": "markdown",
      "metadata": {
        "id": "qV0oXtpDSCj3"
      },
      "source": [
        "And we see that this is an image of size 28x28."
      ]
    },
    {
      "cell_type": "markdown",
      "metadata": {
        "id": "dR25WQ92SCj3"
      },
      "source": [
        "Here's the thing, we don't want to do this numpy transform every thing we pick out a piece of data, which would be tedious and forgettable. Luckily, we have that transform utility that this dataset provides to us. if we supply the `transform` with a function that takes in a piece of data and returns the processed data, this function will be called upon all data that comes out of it.\n",
        "\n",
        "Note: `transform` is to transform the training data, i.e. images, `target_transform` is to transform the target, in other words, ground truth labels"
      ]
    },
    {
      "cell_type": "code",
      "execution_count": 100,
      "metadata": {
        "id": "x1JLB2cYSCj4"
      },
      "outputs": [],
      "source": [
        "def image_to_numpy(image):\n",
        "    return np.array(image)\n",
        "\n",
        "def number_to_word(number):\n",
        "    num_dict = {\n",
        "        1: 'One',\n",
        "        2: 'Two',\n",
        "        3: 'Three',\n",
        "        4: 'Four',\n",
        "        5: 'Five',\n",
        "        6: 'Six',\n",
        "        7: 'Seven',\n",
        "        8: 'Eight',\n",
        "        9: 'Nine'\n",
        "    }\n",
        "    return num_dict[number]\n",
        "\n",
        "mnist_train = torchvision.datasets.MNIST(\"MNIST\", train=True,\n",
        "        transform=image_to_numpy,\n",
        "        target_transform=number_to_word, download=True)"
      ]
    },
    {
      "cell_type": "markdown",
      "metadata": {
        "id": "d-dOknRjSCj4"
      },
      "source": [
        "let's recheck the results:"
      ]
    },
    {
      "cell_type": "code",
      "execution_count": 101,
      "metadata": {
        "colab": {
          "base_uri": "https://localhost:8080/",
          "height": 0
        },
        "id": "b21chlZQSCj4",
        "outputId": "51527502-c11a-4a80-9dbe-b184b25a8582"
      },
      "outputs": [
        {
          "output_type": "stream",
          "name": "stdout",
          "text": [
            "(array([[  0,   0,   0,   0,   0,   0,   0,   0,   0,   0,   0,   0,   0,\n",
            "          0,   0,   0,   0,   0,   0,   0,   0,   0,   0,   0,   0,   0,\n",
            "          0,   0],\n",
            "       [  0,   0,   0,   0,   0,   0,   0,   0,   0,   0,   0,   0,   0,\n",
            "          0,   0,   0,   0,   0,   0,   0,   0,   0,   0,   0,   0,   0,\n",
            "          0,   0],\n",
            "       [  0,   0,   0,   0,   0,   0,   0,   0,   0,   0,   0,   0,   0,\n",
            "          0,   0,   0,   0,   0,   0,   0,   0,   0,   0,   0,   0,   0,\n",
            "          0,   0],\n",
            "       [  0,   0,   0,   0,   0,   0,   0,   0,   0,   0,   0,   0,   0,\n",
            "          0,   0,   0,   0,   0,   0,   0,   0,   0,   0,   0,   0,   0,\n",
            "          0,   0],\n",
            "       [  0,   0,   0,   0,   0,   0,   0,   0,   0,   0,   0,   0,   0,\n",
            "          0,   0,   0,   0,   0,   0,   0,   0,   0,   0,   0,   0,   0,\n",
            "          0,   0],\n",
            "       [  0,   0,   0,   0,   0,   0,   0,   0,   0,   0,   0,   0,   3,\n",
            "         18,  18,  18, 126, 136, 175,  26, 166, 255, 247, 127,   0,   0,\n",
            "          0,   0],\n",
            "       [  0,   0,   0,   0,   0,   0,   0,   0,  30,  36,  94, 154, 170,\n",
            "        253, 253, 253, 253, 253, 225, 172, 253, 242, 195,  64,   0,   0,\n",
            "          0,   0],\n",
            "       [  0,   0,   0,   0,   0,   0,   0,  49, 238, 253, 253, 253, 253,\n",
            "        253, 253, 253, 253, 251,  93,  82,  82,  56,  39,   0,   0,   0,\n",
            "          0,   0],\n",
            "       [  0,   0,   0,   0,   0,   0,   0,  18, 219, 253, 253, 253, 253,\n",
            "        253, 198, 182, 247, 241,   0,   0,   0,   0,   0,   0,   0,   0,\n",
            "          0,   0],\n",
            "       [  0,   0,   0,   0,   0,   0,   0,   0,  80, 156, 107, 253, 253,\n",
            "        205,  11,   0,  43, 154,   0,   0,   0,   0,   0,   0,   0,   0,\n",
            "          0,   0],\n",
            "       [  0,   0,   0,   0,   0,   0,   0,   0,   0,  14,   1, 154, 253,\n",
            "         90,   0,   0,   0,   0,   0,   0,   0,   0,   0,   0,   0,   0,\n",
            "          0,   0],\n",
            "       [  0,   0,   0,   0,   0,   0,   0,   0,   0,   0,   0, 139, 253,\n",
            "        190,   2,   0,   0,   0,   0,   0,   0,   0,   0,   0,   0,   0,\n",
            "          0,   0],\n",
            "       [  0,   0,   0,   0,   0,   0,   0,   0,   0,   0,   0,  11, 190,\n",
            "        253,  70,   0,   0,   0,   0,   0,   0,   0,   0,   0,   0,   0,\n",
            "          0,   0],\n",
            "       [  0,   0,   0,   0,   0,   0,   0,   0,   0,   0,   0,   0,  35,\n",
            "        241, 225, 160, 108,   1,   0,   0,   0,   0,   0,   0,   0,   0,\n",
            "          0,   0],\n",
            "       [  0,   0,   0,   0,   0,   0,   0,   0,   0,   0,   0,   0,   0,\n",
            "         81, 240, 253, 253, 119,  25,   0,   0,   0,   0,   0,   0,   0,\n",
            "          0,   0],\n",
            "       [  0,   0,   0,   0,   0,   0,   0,   0,   0,   0,   0,   0,   0,\n",
            "          0,  45, 186, 253, 253, 150,  27,   0,   0,   0,   0,   0,   0,\n",
            "          0,   0],\n",
            "       [  0,   0,   0,   0,   0,   0,   0,   0,   0,   0,   0,   0,   0,\n",
            "          0,   0,  16,  93, 252, 253, 187,   0,   0,   0,   0,   0,   0,\n",
            "          0,   0],\n",
            "       [  0,   0,   0,   0,   0,   0,   0,   0,   0,   0,   0,   0,   0,\n",
            "          0,   0,   0,   0, 249, 253, 249,  64,   0,   0,   0,   0,   0,\n",
            "          0,   0],\n",
            "       [  0,   0,   0,   0,   0,   0,   0,   0,   0,   0,   0,   0,   0,\n",
            "          0,  46, 130, 183, 253, 253, 207,   2,   0,   0,   0,   0,   0,\n",
            "          0,   0],\n",
            "       [  0,   0,   0,   0,   0,   0,   0,   0,   0,   0,   0,   0,  39,\n",
            "        148, 229, 253, 253, 253, 250, 182,   0,   0,   0,   0,   0,   0,\n",
            "          0,   0],\n",
            "       [  0,   0,   0,   0,   0,   0,   0,   0,   0,   0,  24, 114, 221,\n",
            "        253, 253, 253, 253, 201,  78,   0,   0,   0,   0,   0,   0,   0,\n",
            "          0,   0],\n",
            "       [  0,   0,   0,   0,   0,   0,   0,   0,  23,  66, 213, 253, 253,\n",
            "        253, 253, 198,  81,   2,   0,   0,   0,   0,   0,   0,   0,   0,\n",
            "          0,   0],\n",
            "       [  0,   0,   0,   0,   0,   0,  18, 171, 219, 253, 253, 253, 253,\n",
            "        195,  80,   9,   0,   0,   0,   0,   0,   0,   0,   0,   0,   0,\n",
            "          0,   0],\n",
            "       [  0,   0,   0,   0,  55, 172, 226, 253, 253, 253, 253, 244, 133,\n",
            "         11,   0,   0,   0,   0,   0,   0,   0,   0,   0,   0,   0,   0,\n",
            "          0,   0],\n",
            "       [  0,   0,   0,   0, 136, 253, 253, 253, 212, 135, 132,  16,   0,\n",
            "          0,   0,   0,   0,   0,   0,   0,   0,   0,   0,   0,   0,   0,\n",
            "          0,   0],\n",
            "       [  0,   0,   0,   0,   0,   0,   0,   0,   0,   0,   0,   0,   0,\n",
            "          0,   0,   0,   0,   0,   0,   0,   0,   0,   0,   0,   0,   0,\n",
            "          0,   0],\n",
            "       [  0,   0,   0,   0,   0,   0,   0,   0,   0,   0,   0,   0,   0,\n",
            "          0,   0,   0,   0,   0,   0,   0,   0,   0,   0,   0,   0,   0,\n",
            "          0,   0],\n",
            "       [  0,   0,   0,   0,   0,   0,   0,   0,   0,   0,   0,   0,   0,\n",
            "          0,   0,   0,   0,   0,   0,   0,   0,   0,   0,   0,   0,   0,\n",
            "          0,   0]], dtype=uint8), 'Five')\n"
          ]
        }
      ],
      "source": [
        "example_datum = mnist_train[0]\n",
        "print(example_datum)"
      ]
    },
    {
      "cell_type": "markdown",
      "metadata": {
        "id": "EYCZej8rSCj4"
      },
      "source": [
        "This is only to demonstrate `target_transform`, don't transform numbers to strings, strings are always bad for computing!"
      ]
    },
    {
      "cell_type": "markdown",
      "metadata": {
        "id": "LTEcqtbUSCj5"
      },
      "source": [
        "Not only that, we can also access the number of data inside this dataset using the method `len`, just like we do to a list"
      ]
    },
    {
      "cell_type": "code",
      "execution_count": 102,
      "metadata": {
        "colab": {
          "base_uri": "https://localhost:8080/",
          "height": 0
        },
        "id": "OHrc8QnVSCj5",
        "outputId": "67b97958-7d7a-4ca4-99e3-3049895ed8c1"
      },
      "outputs": [
        {
          "output_type": "stream",
          "name": "stdout",
          "text": [
            "The number of data in this mnist dataset is 60000\n"
          ]
        }
      ],
      "source": [
        "print(f'The number of data in this mnist dataset is {len(mnist_train)}')"
      ]
    },
    {
      "cell_type": "markdown",
      "metadata": {
        "id": "rmhZ8rBxSCj5"
      },
      "source": [
        "Let's visualize one of them!\n",
        "\n",
        "**notice**: this image is **NOT** a 3-channel color image like jpeg/png, it's a grayscale image."
      ]
    },
    {
      "cell_type": "code",
      "execution_count": 103,
      "metadata": {
        "colab": {
          "base_uri": "https://localhost:8080/",
          "height": 424
        },
        "id": "nrcrZJvHSCj5",
        "outputId": "97749502-52e1-4a2b-bb83-864f46791fb7"
      },
      "outputs": [
        {
          "output_type": "execute_result",
          "data": {
            "text/plain": [
              "(-0.5, 27.5, 27.5, -0.5)"
            ]
          },
          "metadata": {},
          "execution_count": 103
        },
        {
          "output_type": "display_data",
          "data": {
            "text/plain": [
              "<Figure size 640x480 with 1 Axes>"
            ],
            "image/png": "[encoded data removed]"
          },
          "metadata": {}
        }
      ],
      "source": [
        "%matplotlib inline\n",
        "import matplotlib.pyplot as plt\n",
        "\n",
        "plt.imshow(example_image, cmap='gray')\n",
        "plt.axis('off')"
      ]
    },
    {
      "cell_type": "markdown",
      "metadata": {
        "id": "d7GbjutZSCj6"
      },
      "source": [
        "We can do the exact same thing with CIFAR dataset.\n",
        "\n",
        "Download and prep them first"
      ]
    },
    {
      "cell_type": "code",
      "execution_count": 104,
      "metadata": {
        "colab": {
          "base_uri": "https://localhost:8080/",
          "height": 122,
          "referenced_widgets": [
            "7d327557e40d4b13b701ceff3b6d91ea",
            "06c919e5e6f847f3ba58560cf67bac3b",
            "91f48939ff284b7cafef9a015ddced78",
            "afcf54f7c2c54410950ef7a45304c203",
            "2f38b9ddc0fb4c9caa1c1c99ce902527",
            "8cfa74bccbcd4e07855fb49db8214d82",
            "e6ce03c5c0f0446fbaf627cf68c89b20",
            "7d66a802886d4484856ca9d4e62c0aa3",
            "9e84bb0f24ef4258a284d093eb00541d",
            "76084c9509e34066bb1964fff26affd6",
            "9ba33d2a8ebd4a269a283afb6ec023ac"
          ]
        },
        "id": "esMp19QmSCj6",
        "outputId": "249445a9-23d4-4ce2-c255-ffb4eeedd12d"
      },
      "outputs": [
        {
          "output_type": "stream",
          "name": "stdout",
          "text": [
            "Downloading https://www.cs.toronto.edu/~kriz/cifar-10-python.tar.gz to CIFAR10/cifar-10-python.tar.gz\n"
          ]
        },
        {
          "output_type": "display_data",
          "data": {
            "text/plain": [
              "  0%|          | 0/170498071 [00:00<?, ?it/s]"
            ],
            "application/vnd.jupyter.widget-view+json": {
              "version_major": 2,
              "version_minor": 0,
              "model_id": "7d327557e40d4b13b701ceff3b6d91ea"
            }
          },
          "metadata": {}
        },
        {
          "output_type": "stream",
          "name": "stdout",
          "text": [
            "Extracting CIFAR10/cifar-10-python.tar.gz to CIFAR10\n",
            "print example datum: (<PIL.Image.Image image mode=RGB size=32x32 at 0x7F60CD827AF0>, 6)\n",
            "image dimensions: (32, 32, 3)\n"
          ]
        }
      ],
      "source": [
        "cifar10_train = torchvision.datasets.CIFAR10(\"CIFAR10\", train=True, transform=None,\n",
        "                                           target_transform=None, download=True)\n",
        "\n",
        "example_datum = cifar10_train[0]\n",
        "print(f'print example datum: {example_datum}')\n",
        "\n",
        "raw_image = example_datum[0]\n",
        "example_image = np.array(raw_image)\n",
        "print(f'image dimensions: {example_image.shape}')"
      ]
    },
    {
      "cell_type": "markdown",
      "metadata": {
        "id": "dQvhYNFbSCj6"
      },
      "source": [
        "Visualize an example image"
      ]
    },
    {
      "cell_type": "code",
      "execution_count": 105,
      "metadata": {
        "colab": {
          "base_uri": "https://localhost:8080/",
          "height": 424
        },
        "id": "s4oAdTjiSCj7",
        "outputId": "1a6314b9-5901-4a25-8ff8-8285b42e3ae6"
      },
      "outputs": [
        {
          "output_type": "execute_result",
          "data": {
            "text/plain": [
              "(-0.5, 31.5, 31.5, -0.5)"
            ]
          },
          "metadata": {},
          "execution_count": 105
        },
        {
          "output_type": "display_data",
          "data": {
            "text/plain": [
              "<Figure size 640x480 with 1 Axes>"
            ],
            "image/png": "[encoded data removed]"
          },
          "metadata": {}
        }
      ],
      "source": [
        "plt.imshow(example_image)\n",
        "plt.axis('off')"
      ]
    },
    {
      "cell_type": "markdown",
      "metadata": {
        "id": "GUSzTS2xSCj7"
      },
      "source": [
        "#### 1.2 Using data loader to iterate data in a way we specified"
      ]
    },
    {
      "cell_type": "markdown",
      "metadata": {
        "id": "loGHTl25SCj8"
      },
      "source": [
        "Right now you can think of these datasets as lists, because they behave quite like lists, they have indexing and length, but if we put this list into a `for` loop,\n",
        "```python\n",
        "for item in cifar10_train:\n",
        "    print(item)\n",
        "```\n",
        "we can only iterate over these data by order, and sometimes we just want these data fed in another way, say, randomly iterated, or in a batched form. It won't be hard to create another function to do this, but pytorch has already done it for us.\n",
        "\n",
        "The tool that is going to help us prepare data in our specified ways is called `DataLoader`, let's make a dataloader out of our datasets."
      ]
    },
    {
      "cell_type": "code",
      "execution_count": 106,
      "metadata": {
        "id": "T0tcql5zSCj8"
      },
      "outputs": [],
      "source": [
        "mnist_train = torchvision.datasets.MNIST(\"MNIST\", train=True, transform=image_to_numpy,\n",
        "                                         target_transform=None, download=True)\n",
        "from torch.utils.data import DataLoader\n",
        "mnist_train_dataloader = DataLoader(mnist_train, batch_size=4, shuffle=True)"
      ]
    },
    {
      "cell_type": "markdown",
      "metadata": {
        "id": "nIDDBYf8SCj8"
      },
      "source": [
        "Now let's take out the first batch of data from this dataloader, because it is an iterable item, we use the `next`, `iter` way to get the first one out."
      ]
    },
    {
      "cell_type": "code",
      "execution_count": 107,
      "metadata": {
        "colab": {
          "base_uri": "https://localhost:8080/",
          "height": 0
        },
        "id": "qDslSDFBSCj9",
        "outputId": "b4c4da4a-6836-4699-bc56-7a3b2d79fa4e"
      },
      "outputs": [
        {
          "output_type": "stream",
          "name": "stdout",
          "text": [
            "the type of this object is <class 'list'>\n",
            "the length of this tuple is 2\n",
            "the type of the first item in the tuple is <class 'torch.Tensor'>\n",
            "the shape of the first item is torch.Size([4, 28, 28])\n",
            "the last item in the tuple is tensor([9, 8, 9, 6])\n"
          ]
        }
      ],
      "source": [
        "first_batch = next(mnist_train_dataloader.__iter__())\n",
        "print(f'the type of this object is {type(first_batch)}')\n",
        "print(f'the length of this tuple is {len(first_batch)}')\n",
        "print(f'the type of the first item in the tuple is {type(first_batch[0])}')\n",
        "print(f'the shape of the first item is {first_batch[0].shape}')\n",
        "print(f'the last item in the tuple is {first_batch[1]}')"
      ]
    },
    {
      "cell_type": "markdown",
      "metadata": {
        "id": "t2vaq551SCj9"
      },
      "source": [
        "Note: from dataloader, all items including images and labels have been transformed to `torch.Tensor`.\n",
        "\n",
        "Next time, we'll make a dataset from our own data."
      ]
    }
  ],
  "metadata": {
    "interpreter": {
      "hash": "bc9ac43b31eae26d1c58864d5185e3dab7f743e74c3a8e7f0aec9dac4b3dd91a"
    },
    "kernelspec": {
      "display_name": "Python 3.9.7 ('dev')",
      "language": "python",
      "name": "python3"
    },
    "language_info": {
      "codemirror_mode": {
        "name": "ipython",
        "version": 3
      },
      "file_extension": ".py",
      "mimetype": "text/x-python",
      "name": "python",
      "nbconvert_exporter": "python",
      "pygments_lexer": "ipython3",
      "version": "3.9.7"
    },
    "orig_nbformat": 4,
    "colab": {
      "provenance": []
    },
    "widgets": {
      "application/vnd.jupyter.widget-state+json": {
        "54e9b32c7750487cb4f28e368d7c6538": {
          "model_module": "@jupyter-widgets/controls",
          "model_name": "HBoxModel",
          "model_module_version": "1.5.0",
          "state": {
            "_dom_classes": [],
            "_model_module": "@jupyter-widgets/controls",
            "_model_module_version": "1.5.0",
            "_model_name": "HBoxModel",
            "_view_count": null,
            "_view_module": "@jupyter-widgets/controls",
            "_view_module_version": "1.5.0",
            "_view_name": "HBoxView",
            "box_style": "",
            "children": [
              "IPY_MODEL_44d2252f03e94cd29c9cc2c2fcae579e",
              "IPY_MODEL_ce36ab5b769d474cad1f9f9e6fc23b49",
              "IPY_MODEL_1f5a912e34c74ae8a0639d0f305c17b6"
            ],
            "layout": "IPY_MODEL_a1c6dddd4d914b23adb0a3a7445f29d8"
          }
        },
        "44d2252f03e94cd29c9cc2c2fcae579e": {
          "model_module": "@jupyter-widgets/controls",
          "model_name": "HTMLModel",
          "model_module_version": "1.5.0",
          "state": {
            "_dom_classes": [],
            "_model_module": "@jupyter-widgets/controls",
            "_model_module_version": "1.5.0",
            "_model_name": "HTMLModel",
            "_view_count": null,
            "_view_module": "@jupyter-widgets/controls",
            "_view_module_version": "1.5.0",
            "_view_name": "HTMLView",
            "description": "",
            "description_tooltip": null,
            "layout": "IPY_MODEL_34d9ffc3b5c94737b094f1c0c3cdb167",
            "placeholder": "​",
            "style": "IPY_MODEL_8d87a9ec526f4317a6cf8360f22a2f26",
            "value": "100%"
          }
        },
        "ce36ab5b769d474cad1f9f9e6fc23b49": {
          "model_module": "@jupyter-widgets/controls",
          "model_name": "FloatProgressModel",
          "model_module_version": "1.5.0",
          "state": {
            "_dom_classes": [],
            "_model_module": "@jupyter-widgets/controls",
            "_model_module_version": "1.5.0",
            "_model_name": "FloatProgressModel",
            "_view_count": null,
            "_view_module": "@jupyter-widgets/controls",
            "_view_module_version": "1.5.0",
            "_view_name": "ProgressView",
            "bar_style": "success",
            "description": "",
            "description_tooltip": null,
            "layout": "IPY_MODEL_5038a06280cb4b3b97f989afb7fd3ead",
            "max": 9912422,
            "min": 0,
            "orientation": "horizontal",
            "style": "IPY_MODEL_a63ebe260c6b48b3abcb863a056ed08d",
            "value": 9912422
          }
        },
        "1f5a912e34c74ae8a0639d0f305c17b6": {
          "model_module": "@jupyter-widgets/controls",
          "model_name": "HTMLModel",
          "model_module_version": "1.5.0",
          "state": {
            "_dom_classes": [],
            "_model_module": "@jupyter-widgets/controls",
            "_model_module_version": "1.5.0",
            "_model_name": "HTMLModel",
            "_view_count": null,
            "_view_module": "@jupyter-widgets/controls",
            "_view_module_version": "1.5.0",
            "_view_name": "HTMLView",
            "description": "",
            "description_tooltip": null,
            "layout": "IPY_MODEL_3ef169706b544d478e863ce05d14c53b",
            "placeholder": "​",
            "style": "IPY_MODEL_a096e57934884cdba9de9b1bab3080b9",
            "value": " 9912422/9912422 [00:00&lt;00:00, 179342477.86it/s]"
          }
        },
        "a1c6dddd4d914b23adb0a3a7445f29d8": {
          "model_module": "@jupyter-widgets/base",
          "model_name": "LayoutModel",
          "model_module_version": "1.2.0",
          "state": {
            "_model_module": "@jupyter-widgets/base",
            "_model_module_version": "1.2.0",
            "_model_name": "LayoutModel",
            "_view_count": null,
            "_view_module": "@jupyter-widgets/base",
            "_view_module_version": "1.2.0",
            "_view_name": "LayoutView",
            "align_content": null,
            "align_items": null,
            "align_self": null,
            "border": null,
            "bottom": null,
            "display": null,
            "flex": null,
            "flex_flow": null,
            "grid_area": null,
            "grid_auto_columns": null,
            "grid_auto_flow": null,
            "grid_auto_rows": null,
            "grid_column": null,
            "grid_gap": null,
            "grid_row": null,
            "grid_template_areas": null,
            "grid_template_columns": null,
            "grid_template_rows": null,
            "height": null,
            "justify_content": null,
            "justify_items": null,
            "left": null,
            "margin": null,
            "max_height": null,
            "max_width": null,
            "min_height": null,
            "min_width": null,
            "object_fit": null,
            "object_position": null,
            "order": null,
            "overflow": null,
            "overflow_x": null,
            "overflow_y": null,
            "padding": null,
            "right": null,
            "top": null,
            "visibility": null,
            "width": null
          }
        },
        "34d9ffc3b5c94737b094f1c0c3cdb167": {
          "model_module": "@jupyter-widgets/base",
          "model_name": "LayoutModel",
          "model_module_version": "1.2.0",
          "state": {
            "_model_module": "@jupyter-widgets/base",
            "_model_module_version": "1.2.0",
            "_model_name": "LayoutModel",
            "_view_count": null,
            "_view_module": "@jupyter-widgets/base",
            "_view_module_version": "1.2.0",
            "_view_name": "LayoutView",
            "align_content": null,
            "align_items": null,
            "align_self": null,
            "border": null,
            "bottom": null,
            "display": null,
            "flex": null,
            "flex_flow": null,
            "grid_area": null,
            "grid_auto_columns": null,
            "grid_auto_flow": null,
            "grid_auto_rows": null,
            "grid_column": null,
            "grid_gap": null,
            "grid_row": null,
            "grid_template_areas": null,
            "grid_template_columns": null,
            "grid_template_rows": null,
            "height": null,
            "justify_content": null,
            "justify_items": null,
            "left": null,
            "margin": null,
            "max_height": null,
            "max_width": null,
            "min_height": null,
            "min_width": null,
            "object_fit": null,
            "object_position": null,
            "order": null,
            "overflow": null,
            "overflow_x": null,
            "overflow_y": null,
            "padding": null,
            "right": null,
            "top": null,
            "visibility": null,
            "width": null
          }
        },
        "8d87a9ec526f4317a6cf8360f22a2f26": {
          "model_module": "@jupyter-widgets/controls",
          "model_name": "DescriptionStyleModel",
          "model_module_version": "1.5.0",
          "state": {
            "_model_module": "@jupyter-widgets/controls",
            "_model_module_version": "1.5.0",
            "_model_name": "DescriptionStyleModel",
            "_view_count": null,
            "_view_module": "@jupyter-widgets/base",
            "_view_module_version": "1.2.0",
            "_view_name": "StyleView",
            "description_width": ""
          }
        },
        "5038a06280cb4b3b97f989afb7fd3ead": {
          "model_module": "@jupyter-widgets/base",
          "model_name": "LayoutModel",
          "model_module_version": "1.2.0",
          "state": {
            "_model_module": "@jupyter-widgets/base",
            "_model_module_version": "1.2.0",
            "_model_name": "LayoutModel",
            "_view_count": null,
            "_view_module": "@jupyter-widgets/base",
            "_view_module_version": "1.2.0",
            "_view_name": "LayoutView",
            "align_content": null,
            "align_items": null,
            "align_self": null,
            "border": null,
            "bottom": null,
            "display": null,
            "flex": null,
            "flex_flow": null,
            "grid_area": null,
            "grid_auto_columns": null,
            "grid_auto_flow": null,
            "grid_auto_rows": null,
            "grid_column": null,
            "grid_gap": null,
            "grid_row": null,
            "grid_template_areas": null,
            "grid_template_columns": null,
            "grid_template_rows": null,
            "height": null,
            "justify_content": null,
            "justify_items": null,
            "left": null,
            "margin": null,
            "max_height": null,
            "max_width": null,
            "min_height": null,
            "min_width": null,
            "object_fit": null,
            "object_position": null,
            "order": null,
            "overflow": null,
            "overflow_x": null,
            "overflow_y": null,
            "padding": null,
            "right": null,
            "top": null,
            "visibility": null,
            "width": null
          }
        },
        "a63ebe260c6b48b3abcb863a056ed08d": {
          "model_module": "@jupyter-widgets/controls",
          "model_name": "ProgressStyleModel",
          "model_module_version": "1.5.0",
          "state": {
            "_model_module": "@jupyter-widgets/controls",
            "_model_module_version": "1.5.0",
            "_model_name": "ProgressStyleModel",
            "_view_count": null,
            "_view_module": "@jupyter-widgets/base",
            "_view_module_version": "1.2.0",
            "_view_name": "StyleView",
            "bar_color": null,
            "description_width": ""
          }
        },
        "3ef169706b544d478e863ce05d14c53b": {
          "model_module": "@jupyter-widgets/base",
          "model_name": "LayoutModel",
          "model_module_version": "1.2.0",
          "state": {
            "_model_module": "@jupyter-widgets/base",
            "_model_module_version": "1.2.0",
            "_model_name": "LayoutModel",
            "_view_count": null,
            "_view_module": "@jupyter-widgets/base",
            "_view_module_version": "1.2.0",
            "_view_name": "LayoutView",
            "align_content": null,
            "align_items": null,
            "align_self": null,
            "border": null,
            "bottom": null,
            "display": null,
            "flex": null,
            "flex_flow": null,
            "grid_area": null,
            "grid_auto_columns": null,
            "grid_auto_flow": null,
            "grid_auto_rows": null,
            "grid_column": null,
            "grid_gap": null,
            "grid_row": null,
            "grid_template_areas": null,
            "grid_template_columns": null,
            "grid_template_rows": null,
            "height": null,
            "justify_content": null,
            "justify_items": null,
            "left": null,
            "margin": null,
            "max_height": null,
            "max_width": null,
            "min_height": null,
            "min_width": null,
            "object_fit": null,
            "object_position": null,
            "order": null,
            "overflow": null,
            "overflow_x": null,
            "overflow_y": null,
            "padding": null,
            "right": null,
            "top": null,
            "visibility": null,
            "width": null
          }
        },
        "a096e57934884cdba9de9b1bab3080b9": {
          "model_module": "@jupyter-widgets/controls",
          "model_name": "DescriptionStyleModel",
          "model_module_version": "1.5.0",
          "state": {
            "_model_module": "@jupyter-widgets/controls",
            "_model_module_version": "1.5.0",
            "_model_name": "DescriptionStyleModel",
            "_view_count": null,
            "_view_module": "@jupyter-widgets/base",
            "_view_module_version": "1.2.0",
            "_view_name": "StyleView",
            "description_width": ""
          }
        },
        "445f304b296a4aaca2210f021d3435ab": {
          "model_module": "@jupyter-widgets/controls",
          "model_name": "HBoxModel",
          "model_module_version": "1.5.0",
          "state": {
            "_dom_classes": [],
            "_model_module": "@jupyter-widgets/controls",
            "_model_module_version": "1.5.0",
            "_model_name": "HBoxModel",
            "_view_count": null,
            "_view_module": "@jupyter-widgets/controls",
            "_view_module_version": "1.5.0",
            "_view_name": "HBoxView",
            "box_style": "",
            "children": [
              "IPY_MODEL_022dc9283326416590e816ab827ecba7",
              "IPY_MODEL_aa9885971c6747a296e7eba343ac29c3",
              "IPY_MODEL_fa61dbd495194031bb230ee5905cd8bb"
            ],
            "layout": "IPY_MODEL_1abba49d6d1a4941979a17bd3118eba5"
          }
        },
        "022dc9283326416590e816ab827ecba7": {
          "model_module": "@jupyter-widgets/controls",
          "model_name": "HTMLModel",
          "model_module_version": "1.5.0",
          "state": {
            "_dom_classes": [],
            "_model_module": "@jupyter-widgets/controls",
            "_model_module_version": "1.5.0",
            "_model_name": "HTMLModel",
            "_view_count": null,
            "_view_module": "@jupyter-widgets/controls",
            "_view_module_version": "1.5.0",
            "_view_name": "HTMLView",
            "description": "",
            "description_tooltip": null,
            "layout": "IPY_MODEL_cb84f787fb164348b81f0663d3f336e7",
            "placeholder": "​",
            "style": "IPY_MODEL_610b971b198d4361b9047f995a38c904",
            "value": "100%"
          }
        },
        "aa9885971c6747a296e7eba343ac29c3": {
          "model_module": "@jupyter-widgets/controls",
          "model_name": "FloatProgressModel",
          "model_module_version": "1.5.0",
          "state": {
            "_dom_classes": [],
            "_model_module": "@jupyter-widgets/controls",
            "_model_module_version": "1.5.0",
            "_model_name": "FloatProgressModel",
            "_view_count": null,
            "_view_module": "@jupyter-widgets/controls",
            "_view_module_version": "1.5.0",
            "_view_name": "ProgressView",
            "bar_style": "success",
            "description": "",
            "description_tooltip": null,
            "layout": "IPY_MODEL_d3a4591801244877a1f8b35e4d2d5ebe",
            "max": 28881,
            "min": 0,
            "orientation": "horizontal",
            "style": "IPY_MODEL_39b0d29eb55c471ea8bce74d893a082e",
            "value": 28881
          }
        },
        "fa61dbd495194031bb230ee5905cd8bb": {
          "model_module": "@jupyter-widgets/controls",
          "model_name": "HTMLModel",
          "model_module_version": "1.5.0",
          "state": {
            "_dom_classes": [],
            "_model_module": "@jupyter-widgets/controls",
            "_model_module_version": "1.5.0",
            "_model_name": "HTMLModel",
            "_view_count": null,
            "_view_module": "@jupyter-widgets/controls",
            "_view_module_version": "1.5.0",
            "_view_name": "HTMLView",
            "description": "",
            "description_tooltip": null,
            "layout": "IPY_MODEL_cf72cdcaddeb4f748c036078e1245f8c",
            "placeholder": "​",
            "style": "IPY_MODEL_af2fee6fef9249ba97fc2fff08cc7511",
            "value": " 28881/28881 [00:00&lt;00:00, 1412249.42it/s]"
          }
        },
        "1abba49d6d1a4941979a17bd3118eba5": {
          "model_module": "@jupyter-widgets/base",
          "model_name": "LayoutModel",
          "model_module_version": "1.2.0",
          "state": {
            "_model_module": "@jupyter-widgets/base",
            "_model_module_version": "1.2.0",
            "_model_name": "LayoutModel",
            "_view_count": null,
            "_view_module": "@jupyter-widgets/base",
            "_view_module_version": "1.2.0",
            "_view_name": "LayoutView",
            "align_content": null,
            "align_items": null,
            "align_self": null,
            "border": null,
            "bottom": null,
            "display": null,
            "flex": null,
            "flex_flow": null,
            "grid_area": null,
            "grid_auto_columns": null,
            "grid_auto_flow": null,
            "grid_auto_rows": null,
            "grid_column": null,
            "grid_gap": null,
            "grid_row": null,
            "grid_template_areas": null,
            "grid_template_columns": null,
            "grid_template_rows": null,
            "height": null,
            "justify_content": null,
            "justify_items": null,
            "left": null,
            "margin": null,
            "max_height": null,
            "max_width": null,
            "min_height": null,
            "min_width": null,
            "object_fit": null,
            "object_position": null,
            "order": null,
            "overflow": null,
            "overflow_x": null,
            "overflow_y": null,
            "padding": null,
            "right": null,
            "top": null,
            "visibility": null,
            "width": null
          }
        },
        "cb84f787fb164348b81f0663d3f336e7": {
          "model_module": "@jupyter-widgets/base",
          "model_name": "LayoutModel",
          "model_module_version": "1.2.0",
          "state": {
            "_model_module": "@jupyter-widgets/base",
            "_model_module_version": "1.2.0",
            "_model_name": "LayoutModel",
            "_view_count": null,
            "_view_module": "@jupyter-widgets/base",
            "_view_module_version": "1.2.0",
            "_view_name": "LayoutView",
            "align_content": null,
            "align_items": null,
            "align_self": null,
            "border": null,
            "bottom": null,
            "display": null,
            "flex": null,
            "flex_flow": null,
            "grid_area": null,
            "grid_auto_columns": null,
            "grid_auto_flow": null,
            "grid_auto_rows": null,
            "grid_column": null,
            "grid_gap": null,
            "grid_row": null,
            "grid_template_areas": null,
            "grid_template_columns": null,
            "grid_template_rows": null,
            "height": null,
            "justify_content": null,
            "justify_items": null,
            "left": null,
            "margin": null,
            "max_height": null,
            "max_width": null,
            "min_height": null,
            "min_width": null,
            "object_fit": null,
            "object_position": null,
            "order": null,
            "overflow": null,
            "overflow_x": null,
            "overflow_y": null,
            "padding": null,
            "right": null,
            "top": null,
            "visibility": null,
            "width": null
          }
        },
        "610b971b198d4361b9047f995a38c904": {
          "model_module": "@jupyter-widgets/controls",
          "model_name": "DescriptionStyleModel",
          "model_module_version": "1.5.0",
          "state": {
            "_model_module": "@jupyter-widgets/controls",
            "_model_module_version": "1.5.0",
            "_model_name": "DescriptionStyleModel",
            "_view_count": null,
            "_view_module": "@jupyter-widgets/base",
            "_view_module_version": "1.2.0",
            "_view_name": "StyleView",
            "description_width": ""
          }
        },
        "d3a4591801244877a1f8b35e4d2d5ebe": {
          "model_module": "@jupyter-widgets/base",
          "model_name": "LayoutModel",
          "model_module_version": "1.2.0",
          "state": {
            "_model_module": "@jupyter-widgets/base",
            "_model_module_version": "1.2.0",
            "_model_name": "LayoutModel",
            "_view_count": null,
            "_view_module": "@jupyter-widgets/base",
            "_view_module_version": "1.2.0",
            "_view_name": "LayoutView",
            "align_content": null,
            "align_items": null,
            "align_self": null,
            "border": null,
            "bottom": null,
            "display": null,
            "flex": null,
            "flex_flow": null,
            "grid_area": null,
            "grid_auto_columns": null,
            "grid_auto_flow": null,
            "grid_auto_rows": null,
            "grid_column": null,
            "grid_gap": null,
            "grid_row": null,
            "grid_template_areas": null,
            "grid_template_columns": null,
            "grid_template_rows": null,
            "height": null,
            "justify_content": null,
            "justify_items": null,
            "left": null,
            "margin": null,
            "max_height": null,
            "max_width": null,
            "min_height": null,
            "min_width": null,
            "object_fit": null,
            "object_position": null,
            "order": null,
            "overflow": null,
            "overflow_x": null,
            "overflow_y": null,
            "padding": null,
            "right": null,
            "top": null,
            "visibility": null,
            "width": null
          }
        },
        "39b0d29eb55c471ea8bce74d893a082e": {
          "model_module": "@jupyter-widgets/controls",
          "model_name": "ProgressStyleModel",
          "model_module_version": "1.5.0",
          "state": {
            "_model_module": "@jupyter-widgets/controls",
            "_model_module_version": "1.5.0",
            "_model_name": "ProgressStyleModel",
            "_view_count": null,
            "_view_module": "@jupyter-widgets/base",
            "_view_module_version": "1.2.0",
            "_view_name": "StyleView",
            "bar_color": null,
            "description_width": ""
          }
        },
        "cf72cdcaddeb4f748c036078e1245f8c": {
          "model_module": "@jupyter-widgets/base",
          "model_name": "LayoutModel",
          "model_module_version": "1.2.0",
          "state": {
            "_model_module": "@jupyter-widgets/base",
            "_model_module_version": "1.2.0",
            "_model_name": "LayoutModel",
            "_view_count": null,
            "_view_module": "@jupyter-widgets/base",
            "_view_module_version": "1.2.0",
            "_view_name": "LayoutView",
            "align_content": null,
            "align_items": null,
            "align_self": null,
            "border": null,
            "bottom": null,
            "display": null,
            "flex": null,
            "flex_flow": null,
            "grid_area": null,
            "grid_auto_columns": null,
            "grid_auto_flow": null,
            "grid_auto_rows": null,
            "grid_column": null,
            "grid_gap": null,
            "grid_row": null,
            "grid_template_areas": null,
            "grid_template_columns": null,
            "grid_template_rows": null,
            "height": null,
            "justify_content": null,
            "justify_items": null,
            "left": null,
            "margin": null,
            "max_height": null,
            "max_width": null,
            "min_height": null,
            "min_width": null,
            "object_fit": null,
            "object_position": null,
            "order": null,
            "overflow": null,
            "overflow_x": null,
            "overflow_y": null,
            "padding": null,
            "right": null,
            "top": null,
            "visibility": null,
            "width": null
          }
        },
        "af2fee6fef9249ba97fc2fff08cc7511": {
          "model_module": "@jupyter-widgets/controls",
          "model_name": "DescriptionStyleModel",
          "model_module_version": "1.5.0",
          "state": {
            "_model_module": "@jupyter-widgets/controls",
            "_model_module_version": "1.5.0",
            "_model_name": "DescriptionStyleModel",
            "_view_count": null,
            "_view_module": "@jupyter-widgets/base",
            "_view_module_version": "1.2.0",
            "_view_name": "StyleView",
            "description_width": ""
          }
        },
        "a71c1df9c07b4425964a7bbe431e136b": {
          "model_module": "@jupyter-widgets/controls",
          "model_name": "HBoxModel",
          "model_module_version": "1.5.0",
          "state": {
            "_dom_classes": [],
            "_model_module": "@jupyter-widgets/controls",
            "_model_module_version": "1.5.0",
            "_model_name": "HBoxModel",
            "_view_count": null,
            "_view_module": "@jupyter-widgets/controls",
            "_view_module_version": "1.5.0",
            "_view_name": "HBoxView",
            "box_style": "",
            "children": [
              "IPY_MODEL_d85452e1ecaa405a9ebe455716c3ba4c",
              "IPY_MODEL_18717b43cfce4efeaadf94a5567978c8",
              "IPY_MODEL_94d6325f8a444c9aa47a3ebe5552b9a4"
            ],
            "layout": "IPY_MODEL_77cc0fbec66d4911af6b29b81589a19c"
          }
        },
        "d85452e1ecaa405a9ebe455716c3ba4c": {
          "model_module": "@jupyter-widgets/controls",
          "model_name": "HTMLModel",
          "model_module_version": "1.5.0",
          "state": {
            "_dom_classes": [],
            "_model_module": "@jupyter-widgets/controls",
            "_model_module_version": "1.5.0",
            "_model_name": "HTMLModel",
            "_view_count": null,
            "_view_module": "@jupyter-widgets/controls",
            "_view_module_version": "1.5.0",
            "_view_name": "HTMLView",
            "description": "",
            "description_tooltip": null,
            "layout": "IPY_MODEL_3343c2efc1b945bbb69f2d7e904982fb",
            "placeholder": "​",
            "style": "IPY_MODEL_05d76529061f44cea037bce4d042f8a9",
            "value": "100%"
          }
        },
        "18717b43cfce4efeaadf94a5567978c8": {
          "model_module": "@jupyter-widgets/controls",
          "model_name": "FloatProgressModel",
          "model_module_version": "1.5.0",
          "state": {
            "_dom_classes": [],
            "_model_module": "@jupyter-widgets/controls",
            "_model_module_version": "1.5.0",
            "_model_name": "FloatProgressModel",
            "_view_count": null,
            "_view_module": "@jupyter-widgets/controls",
            "_view_module_version": "1.5.0",
            "_view_name": "ProgressView",
            "bar_style": "success",
            "description": "",
            "description_tooltip": null,
            "layout": "IPY_MODEL_4db300c83a1548dfac04ecc77320fbaa",
            "max": 1648877,
            "min": 0,
            "orientation": "horizontal",
            "style": "IPY_MODEL_958c0833e4f14df58200fa2b6f021d25",
            "value": 1648877
          }
        },
        "94d6325f8a444c9aa47a3ebe5552b9a4": {
          "model_module": "@jupyter-widgets/controls",
          "model_name": "HTMLModel",
          "model_module_version": "1.5.0",
          "state": {
            "_dom_classes": [],
            "_model_module": "@jupyter-widgets/controls",
            "_model_module_version": "1.5.0",
            "_model_name": "HTMLModel",
            "_view_count": null,
            "_view_module": "@jupyter-widgets/controls",
            "_view_module_version": "1.5.0",
            "_view_name": "HTMLView",
            "description": "",
            "description_tooltip": null,
            "layout": "IPY_MODEL_157a3d588df94cff999c716b0e31a91b",
            "placeholder": "​",
            "style": "IPY_MODEL_100e32cbbd6e43459450b3d4a10cf348",
            "value": " 1648877/1648877 [00:00&lt;00:00, 58736677.85it/s]"
          }
        },
        "77cc0fbec66d4911af6b29b81589a19c": {
          "model_module": "@jupyter-widgets/base",
          "model_name": "LayoutModel",
          "model_module_version": "1.2.0",
          "state": {
            "_model_module": "@jupyter-widgets/base",
            "_model_module_version": "1.2.0",
            "_model_name": "LayoutModel",
            "_view_count": null,
            "_view_module": "@jupyter-widgets/base",
            "_view_module_version": "1.2.0",
            "_view_name": "LayoutView",
            "align_content": null,
            "align_items": null,
            "align_self": null,
            "border": null,
            "bottom": null,
            "display": null,
            "flex": null,
            "flex_flow": null,
            "grid_area": null,
            "grid_auto_columns": null,
            "grid_auto_flow": null,
            "grid_auto_rows": null,
            "grid_column": null,
            "grid_gap": null,
            "grid_row": null,
            "grid_template_areas": null,
            "grid_template_columns": null,
            "grid_template_rows": null,
            "height": null,
            "justify_content": null,
            "justify_items": null,
            "left": null,
            "margin": null,
            "max_height": null,
            "max_width": null,
            "min_height": null,
            "min_width": null,
            "object_fit": null,
            "object_position": null,
            "order": null,
            "overflow": null,
            "overflow_x": null,
            "overflow_y": null,
            "padding": null,
            "right": null,
            "top": null,
            "visibility": null,
            "width": null
          }
        },
        "3343c2efc1b945bbb69f2d7e904982fb": {
          "model_module": "@jupyter-widgets/base",
          "model_name": "LayoutModel",
          "model_module_version": "1.2.0",
          "state": {
            "_model_module": "@jupyter-widgets/base",
            "_model_module_version": "1.2.0",
            "_model_name": "LayoutModel",
            "_view_count": null,
            "_view_module": "@jupyter-widgets/base",
            "_view_module_version": "1.2.0",
            "_view_name": "LayoutView",
            "align_content": null,
            "align_items": null,
            "align_self": null,
            "border": null,
            "bottom": null,
            "display": null,
            "flex": null,
            "flex_flow": null,
            "grid_area": null,
            "grid_auto_columns": null,
            "grid_auto_flow": null,
            "grid_auto_rows": null,
            "grid_column": null,
            "grid_gap": null,
            "grid_row": null,
            "grid_template_areas": null,
            "grid_template_columns": null,
            "grid_template_rows": null,
            "height": null,
            "justify_content": null,
            "justify_items": null,
            "left": null,
            "margin": null,
            "max_height": null,
            "max_width": null,
            "min_height": null,
            "min_width": null,
            "object_fit": null,
            "object_position": null,
            "order": null,
            "overflow": null,
            "overflow_x": null,
            "overflow_y": null,
            "padding": null,
            "right": null,
            "top": null,
            "visibility": null,
            "width": null
          }
        },
        "05d76529061f44cea037bce4d042f8a9": {
          "model_module": "@jupyter-widgets/controls",
          "model_name": "DescriptionStyleModel",
          "model_module_version": "1.5.0",
          "state": {
            "_model_module": "@jupyter-widgets/controls",
            "_model_module_version": "1.5.0",
            "_model_name": "DescriptionStyleModel",
            "_view_count": null,
            "_view_module": "@jupyter-widgets/base",
            "_view_module_version": "1.2.0",
            "_view_name": "StyleView",
            "description_width": ""
          }
        },
        "4db300c83a1548dfac04ecc77320fbaa": {
          "model_module": "@jupyter-widgets/base",
          "model_name": "LayoutModel",
          "model_module_version": "1.2.0",
          "state": {
            "_model_module": "@jupyter-widgets/base",
            "_model_module_version": "1.2.0",
            "_model_name": "LayoutModel",
            "_view_count": null,
            "_view_module": "@jupyter-widgets/base",
            "_view_module_version": "1.2.0",
            "_view_name": "LayoutView",
            "align_content": null,
            "align_items": null,
            "align_self": null,
            "border": null,
            "bottom": null,
            "display": null,
            "flex": null,
            "flex_flow": null,
            "grid_area": null,
            "grid_auto_columns": null,
            "grid_auto_flow": null,
            "grid_auto_rows": null,
            "grid_column": null,
            "grid_gap": null,
            "grid_row": null,
            "grid_template_areas": null,
            "grid_template_columns": null,
            "grid_template_rows": null,
            "height": null,
            "justify_content": null,
            "justify_items": null,
            "left": null,
            "margin": null,
            "max_height": null,
            "max_width": null,
            "min_height": null,
            "min_width": null,
            "object_fit": null,
            "object_position": null,
            "order": null,
            "overflow": null,
            "overflow_x": null,
            "overflow_y": null,
            "padding": null,
            "right": null,
            "top": null,
            "visibility": null,
            "width": null
          }
        },
        "958c0833e4f14df58200fa2b6f021d25": {
          "model_module": "@jupyter-widgets/controls",
          "model_name": "ProgressStyleModel",
          "model_module_version": "1.5.0",
          "state": {
            "_model_module": "@jupyter-widgets/controls",
            "_model_module_version": "1.5.0",
            "_model_name": "ProgressStyleModel",
            "_view_count": null,
            "_view_module": "@jupyter-widgets/base",
            "_view_module_version": "1.2.0",
            "_view_name": "StyleView",
            "bar_color": null,
            "description_width": ""
          }
        },
        "157a3d588df94cff999c716b0e31a91b": {
          "model_module": "@jupyter-widgets/base",
          "model_name": "LayoutModel",
          "model_module_version": "1.2.0",
          "state": {
            "_model_module": "@jupyter-widgets/base",
            "_model_module_version": "1.2.0",
            "_model_name": "LayoutModel",
            "_view_count": null,
            "_view_module": "@jupyter-widgets/base",
            "_view_module_version": "1.2.0",
            "_view_name": "LayoutView",
            "align_content": null,
            "align_items": null,
            "align_self": null,
            "border": null,
            "bottom": null,
            "display": null,
            "flex": null,
            "flex_flow": null,
            "grid_area": null,
            "grid_auto_columns": null,
            "grid_auto_flow": null,
            "grid_auto_rows": null,
            "grid_column": null,
            "grid_gap": null,
            "grid_row": null,
            "grid_template_areas": null,
            "grid_template_columns": null,
            "grid_template_rows": null,
            "height": null,
            "justify_content": null,
            "justify_items": null,
            "left": null,
            "margin": null,
            "max_height": null,
            "max_width": null,
            "min_height": null,
            "min_width": null,
            "object_fit": null,
            "object_position": null,
            "order": null,
            "overflow": null,
            "overflow_x": null,
            "overflow_y": null,
            "padding": null,
            "right": null,
            "top": null,
            "visibility": null,
            "width": null
          }
        },
        "100e32cbbd6e43459450b3d4a10cf348": {
          "model_module": "@jupyter-widgets/controls",
          "model_name": "DescriptionStyleModel",
          "model_module_version": "1.5.0",
          "state": {
            "_model_module": "@jupyter-widgets/controls",
            "_model_module_version": "1.5.0",
            "_model_name": "DescriptionStyleModel",
            "_view_count": null,
            "_view_module": "@jupyter-widgets/base",
            "_view_module_version": "1.2.0",
            "_view_name": "StyleView",
            "description_width": ""
          }
        },
        "fcebe2e489774e69bd83fa1499969ea0": {
          "model_module": "@jupyter-widgets/controls",
          "model_name": "HBoxModel",
          "model_module_version": "1.5.0",
          "state": {
            "_dom_classes": [],
            "_model_module": "@jupyter-widgets/controls",
            "_model_module_version": "1.5.0",
            "_model_name": "HBoxModel",
            "_view_count": null,
            "_view_module": "@jupyter-widgets/controls",
            "_view_module_version": "1.5.0",
            "_view_name": "HBoxView",
            "box_style": "",
            "children": [
              "IPY_MODEL_e0ba8f6945b9451fbf14607292c544d8",
              "IPY_MODEL_30fe54b2793d49a291cb1818857735be",
              "IPY_MODEL_86e61b7ac3fa49078524ffd76032dcc7"
            ],
            "layout": "IPY_MODEL_a3cd5154661a49b587a7ee88f45c29f8"
          }
        },
        "e0ba8f6945b9451fbf14607292c544d8": {
          "model_module": "@jupyter-widgets/controls",
          "model_name": "HTMLModel",
          "model_module_version": "1.5.0",
          "state": {
            "_dom_classes": [],
            "_model_module": "@jupyter-widgets/controls",
            "_model_module_version": "1.5.0",
            "_model_name": "HTMLModel",
            "_view_count": null,
            "_view_module": "@jupyter-widgets/controls",
            "_view_module_version": "1.5.0",
            "_view_name": "HTMLView",
            "description": "",
            "description_tooltip": null,
            "layout": "IPY_MODEL_cc4d5d42b6e54ee792f9284cb44ae5cc",
            "placeholder": "​",
            "style": "IPY_MODEL_b435abe46a8a4532ab68f172a7c49162",
            "value": "100%"
          }
        },
        "30fe54b2793d49a291cb1818857735be": {
          "model_module": "@jupyter-widgets/controls",
          "model_name": "FloatProgressModel",
          "model_module_version": "1.5.0",
          "state": {
            "_dom_classes": [],
            "_model_module": "@jupyter-widgets/controls",
            "_model_module_version": "1.5.0",
            "_model_name": "FloatProgressModel",
            "_view_count": null,
            "_view_module": "@jupyter-widgets/controls",
            "_view_module_version": "1.5.0",
            "_view_name": "ProgressView",
            "bar_style": "success",
            "description": "",
            "description_tooltip": null,
            "layout": "IPY_MODEL_79dc017d8d224d3090ef2d6443599b17",
            "max": 4542,
            "min": 0,
            "orientation": "horizontal",
            "style": "IPY_MODEL_6733472db8514921b34b4d7bd598ca86",
            "value": 4542
          }
        },
        "86e61b7ac3fa49078524ffd76032dcc7": {
          "model_module": "@jupyter-widgets/controls",
          "model_name": "HTMLModel",
          "model_module_version": "1.5.0",
          "state": {
            "_dom_classes": [],
            "_model_module": "@jupyter-widgets/controls",
            "_model_module_version": "1.5.0",
            "_model_name": "HTMLModel",
            "_view_count": null,
            "_view_module": "@jupyter-widgets/controls",
            "_view_module_version": "1.5.0",
            "_view_name": "HTMLView",
            "description": "",
            "description_tooltip": null,
            "layout": "IPY_MODEL_9453c2ca8ee0484faa1a262a368abd8a",
            "placeholder": "​",
            "style": "IPY_MODEL_422929650915436d8dc80cba136a09a8",
            "value": " 4542/4542 [00:00&lt;00:00, 228472.92it/s]"
          }
        },
        "a3cd5154661a49b587a7ee88f45c29f8": {
          "model_module": "@jupyter-widgets/base",
          "model_name": "LayoutModel",
          "model_module_version": "1.2.0",
          "state": {
            "_model_module": "@jupyter-widgets/base",
            "_model_module_version": "1.2.0",
            "_model_name": "LayoutModel",
            "_view_count": null,
            "_view_module": "@jupyter-widgets/base",
            "_view_module_version": "1.2.0",
            "_view_name": "LayoutView",
            "align_content": null,
            "align_items": null,
            "align_self": null,
            "border": null,
            "bottom": null,
            "display": null,
            "flex": null,
            "flex_flow": null,
            "grid_area": null,
            "grid_auto_columns": null,
            "grid_auto_flow": null,
            "grid_auto_rows": null,
            "grid_column": null,
            "grid_gap": null,
            "grid_row": null,
            "grid_template_areas": null,
            "grid_template_columns": null,
            "grid_template_rows": null,
            "height": null,
            "justify_content": null,
            "justify_items": null,
            "left": null,
            "margin": null,
            "max_height": null,
            "max_width": null,
            "min_height": null,
            "min_width": null,
            "object_fit": null,
            "object_position": null,
            "order": null,
            "overflow": null,
            "overflow_x": null,
            "overflow_y": null,
            "padding": null,
            "right": null,
            "top": null,
            "visibility": null,
            "width": null
          }
        },
        "cc4d5d42b6e54ee792f9284cb44ae5cc": {
          "model_module": "@jupyter-widgets/base",
          "model_name": "LayoutModel",
          "model_module_version": "1.2.0",
          "state": {
            "_model_module": "@jupyter-widgets/base",
            "_model_module_version": "1.2.0",
            "_model_name": "LayoutModel",
            "_view_count": null,
            "_view_module": "@jupyter-widgets/base",
            "_view_module_version": "1.2.0",
            "_view_name": "LayoutView",
            "align_content": null,
            "align_items": null,
            "align_self": null,
            "border": null,
            "bottom": null,
            "display": null,
            "flex": null,
            "flex_flow": null,
            "grid_area": null,
            "grid_auto_columns": null,
            "grid_auto_flow": null,
            "grid_auto_rows": null,
            "grid_column": null,
            "grid_gap": null,
            "grid_row": null,
            "grid_template_areas": null,
            "grid_template_columns": null,
            "grid_template_rows": null,
            "height": null,
            "justify_content": null,
            "justify_items": null,
            "left": null,
            "margin": null,
            "max_height": null,
            "max_width": null,
            "min_height": null,
            "min_width": null,
            "object_fit": null,
            "object_position": null,
            "order": null,
            "overflow": null,
            "overflow_x": null,
            "overflow_y": null,
            "padding": null,
            "right": null,
            "top": null,
            "visibility": null,
            "width": null
          }
        },
        "b435abe46a8a4532ab68f172a7c49162": {
          "model_module": "@jupyter-widgets/controls",
          "model_name": "DescriptionStyleModel",
          "model_module_version": "1.5.0",
          "state": {
            "_model_module": "@jupyter-widgets/controls",
            "_model_module_version": "1.5.0",
            "_model_name": "DescriptionStyleModel",
            "_view_count": null,
            "_view_module": "@jupyter-widgets/base",
            "_view_module_version": "1.2.0",
            "_view_name": "StyleView",
            "description_width": ""
          }
        },
        "79dc017d8d224d3090ef2d6443599b17": {
          "model_module": "@jupyter-widgets/base",
          "model_name": "LayoutModel",
          "model_module_version": "1.2.0",
          "state": {
            "_model_module": "@jupyter-widgets/base",
            "_model_module_version": "1.2.0",
            "_model_name": "LayoutModel",
            "_view_count": null,
            "_view_module": "@jupyter-widgets/base",
            "_view_module_version": "1.2.0",
            "_view_name": "LayoutView",
            "align_content": null,
            "align_items": null,
            "align_self": null,
            "border": null,
            "bottom": null,
            "display": null,
            "flex": null,
            "flex_flow": null,
            "grid_area": null,
            "grid_auto_columns": null,
            "grid_auto_flow": null,
            "grid_auto_rows": null,
            "grid_column": null,
            "grid_gap": null,
            "grid_row": null,
            "grid_template_areas": null,
            "grid_template_columns": null,
            "grid_template_rows": null,
            "height": null,
            "justify_content": null,
            "justify_items": null,
            "left": null,
            "margin": null,
            "max_height": null,
            "max_width": null,
            "min_height": null,
            "min_width": null,
            "object_fit": null,
            "object_position": null,
            "order": null,
            "overflow": null,
            "overflow_x": null,
            "overflow_y": null,
            "padding": null,
            "right": null,
            "top": null,
            "visibility": null,
            "width": null
          }
        },
        "6733472db8514921b34b4d7bd598ca86": {
          "model_module": "@jupyter-widgets/controls",
          "model_name": "ProgressStyleModel",
          "model_module_version": "1.5.0",
          "state": {
            "_model_module": "@jupyter-widgets/controls",
            "_model_module_version": "1.5.0",
            "_model_name": "ProgressStyleModel",
            "_view_count": null,
            "_view_module": "@jupyter-widgets/base",
            "_view_module_version": "1.2.0",
            "_view_name": "StyleView",
            "bar_color": null,
            "description_width": ""
          }
        },
        "9453c2ca8ee0484faa1a262a368abd8a": {
          "model_module": "@jupyter-widgets/base",
          "model_name": "LayoutModel",
          "model_module_version": "1.2.0",
          "state": {
            "_model_module": "@jupyter-widgets/base",
            "_model_module_version": "1.2.0",
            "_model_name": "LayoutModel",
            "_view_count": null,
            "_view_module": "@jupyter-widgets/base",
            "_view_module_version": "1.2.0",
            "_view_name": "LayoutView",
            "align_content": null,
            "align_items": null,
            "align_self": null,
            "border": null,
            "bottom": null,
            "display": null,
            "flex": null,
            "flex_flow": null,
            "grid_area": null,
            "grid_auto_columns": null,
            "grid_auto_flow": null,
            "grid_auto_rows": null,
            "grid_column": null,
            "grid_gap": null,
            "grid_row": null,
            "grid_template_areas": null,
            "grid_template_columns": null,
            "grid_template_rows": null,
            "height": null,
            "justify_content": null,
            "justify_items": null,
            "left": null,
            "margin": null,
            "max_height": null,
            "max_width": null,
            "min_height": null,
            "min_width": null,
            "object_fit": null,
            "object_position": null,
            "order": null,
            "overflow": null,
            "overflow_x": null,
            "overflow_y": null,
            "padding": null,
            "right": null,
            "top": null,
            "visibility": null,
            "width": null
          }
        },
        "422929650915436d8dc80cba136a09a8": {
          "model_module": "@jupyter-widgets/controls",
          "model_name": "DescriptionStyleModel",
          "model_module_version": "1.5.0",
          "state": {
            "_model_module": "@jupyter-widgets/controls",
            "_model_module_version": "1.5.0",
            "_model_name": "DescriptionStyleModel",
            "_view_count": null,
            "_view_module": "@jupyter-widgets/base",
            "_view_module_version": "1.2.0",
            "_view_name": "StyleView",
            "description_width": ""
          }
        },
        "7d327557e40d4b13b701ceff3b6d91ea": {
          "model_module": "@jupyter-widgets/controls",
          "model_name": "HBoxModel",
          "model_module_version": "1.5.0",
          "state": {
            "_dom_classes": [],
            "_model_module": "@jupyter-widgets/controls",
            "_model_module_version": "1.5.0",
            "_model_name": "HBoxModel",
            "_view_count": null,
            "_view_module": "@jupyter-widgets/controls",
            "_view_module_version": "1.5.0",
            "_view_name": "HBoxView",
            "box_style": "",
            "children": [
              "IPY_MODEL_06c919e5e6f847f3ba58560cf67bac3b",
              "IPY_MODEL_91f48939ff284b7cafef9a015ddced78",
              "IPY_MODEL_afcf54f7c2c54410950ef7a45304c203"
            ],
            "layout": "IPY_MODEL_2f38b9ddc0fb4c9caa1c1c99ce902527"
          }
        },
        "06c919e5e6f847f3ba58560cf67bac3b": {
          "model_module": "@jupyter-widgets/controls",
          "model_name": "HTMLModel",
          "model_module_version": "1.5.0",
          "state": {
            "_dom_classes": [],
            "_model_module": "@jupyter-widgets/controls",
            "_model_module_version": "1.5.0",
            "_model_name": "HTMLModel",
            "_view_count": null,
            "_view_module": "@jupyter-widgets/controls",
            "_view_module_version": "1.5.0",
            "_view_name": "HTMLView",
            "description": "",
            "description_tooltip": null,
            "layout": "IPY_MODEL_8cfa74bccbcd4e07855fb49db8214d82",
            "placeholder": "​",
            "style": "IPY_MODEL_e6ce03c5c0f0446fbaf627cf68c89b20",
            "value": "100%"
          }
        },
        "91f48939ff284b7cafef9a015ddced78": {
          "model_module": "@jupyter-widgets/controls",
          "model_name": "FloatProgressModel",
          "model_module_version": "1.5.0",
          "state": {
            "_dom_classes": [],
            "_model_module": "@jupyter-widgets/controls",
            "_model_module_version": "1.5.0",
            "_model_name": "FloatProgressModel",
            "_view_count": null,
            "_view_module": "@jupyter-widgets/controls",
            "_view_module_version": "1.5.0",
            "_view_name": "ProgressView",
            "bar_style": "success",
            "description": "",
            "description_tooltip": null,
            "layout": "IPY_MODEL_7d66a802886d4484856ca9d4e62c0aa3",
            "max": 170498071,
            "min": 0,
            "orientation": "horizontal",
            "style": "IPY_MODEL_9e84bb0f24ef4258a284d093eb00541d",
            "value": 170498071
          }
        },
        "afcf54f7c2c54410950ef7a45304c203": {
          "model_module": "@jupyter-widgets/controls",
          "model_name": "HTMLModel",
          "model_module_version": "1.5.0",
          "state": {
            "_dom_classes": [],
            "_model_module": "@jupyter-widgets/controls",
            "_model_module_version": "1.5.0",
            "_model_name": "HTMLModel",
            "_view_count": null,
            "_view_module": "@jupyter-widgets/controls",
            "_view_module_version": "1.5.0",
            "_view_name": "HTMLView",
            "description": "",
            "description_tooltip": null,
            "layout": "IPY_MODEL_76084c9509e34066bb1964fff26affd6",
            "placeholder": "​",
            "style": "IPY_MODEL_9ba33d2a8ebd4a269a283afb6ec023ac",
            "value": " 170498071/170498071 [00:02&lt;00:00, 74520994.00it/s]"
          }
        },
        "2f38b9ddc0fb4c9caa1c1c99ce902527": {
          "model_module": "@jupyter-widgets/base",
          "model_name": "LayoutModel",
          "model_module_version": "1.2.0",
          "state": {
            "_model_module": "@jupyter-widgets/base",
            "_model_module_version": "1.2.0",
            "_model_name": "LayoutModel",
            "_view_count": null,
            "_view_module": "@jupyter-widgets/base",
            "_view_module_version": "1.2.0",
            "_view_name": "LayoutView",
            "align_content": null,
            "align_items": null,
            "align_self": null,
            "border": null,
            "bottom": null,
            "display": null,
            "flex": null,
            "flex_flow": null,
            "grid_area": null,
            "grid_auto_columns": null,
            "grid_auto_flow": null,
            "grid_auto_rows": null,
            "grid_column": null,
            "grid_gap": null,
            "grid_row": null,
            "grid_template_areas": null,
            "grid_template_columns": null,
            "grid_template_rows": null,
            "height": null,
            "justify_content": null,
            "justify_items": null,
            "left": null,
            "margin": null,
            "max_height": null,
            "max_width": null,
            "min_height": null,
            "min_width": null,
            "object_fit": null,
            "object_position": null,
            "order": null,
            "overflow": null,
            "overflow_x": null,
            "overflow_y": null,
            "padding": null,
            "right": null,
            "top": null,
            "visibility": null,
            "width": null
          }
        },
        "8cfa74bccbcd4e07855fb49db8214d82": {
          "model_module": "@jupyter-widgets/base",
          "model_name": "LayoutModel",
          "model_module_version": "1.2.0",
          "state": {
            "_model_module": "@jupyter-widgets/base",
            "_model_module_version": "1.2.0",
            "_model_name": "LayoutModel",
            "_view_count": null,
            "_view_module": "@jupyter-widgets/base",
            "_view_module_version": "1.2.0",
            "_view_name": "LayoutView",
            "align_content": null,
            "align_items": null,
            "align_self": null,
            "border": null,
            "bottom": null,
            "display": null,
            "flex": null,
            "flex_flow": null,
            "grid_area": null,
            "grid_auto_columns": null,
            "grid_auto_flow": null,
            "grid_auto_rows": null,
            "grid_column": null,
            "grid_gap": null,
            "grid_row": null,
            "grid_template_areas": null,
            "grid_template_columns": null,
            "grid_template_rows": null,
            "height": null,
            "justify_content": null,
            "justify_items": null,
            "left": null,
            "margin": null,
            "max_height": null,
            "max_width": null,
            "min_height": null,
            "min_width": null,
            "object_fit": null,
            "object_position": null,
            "order": null,
            "overflow": null,
            "overflow_x": null,
            "overflow_y": null,
            "padding": null,
            "right": null,
            "top": null,
            "visibility": null,
            "width": null
          }
        },
        "e6ce03c5c0f0446fbaf627cf68c89b20": {
          "model_module": "@jupyter-widgets/controls",
          "model_name": "DescriptionStyleModel",
          "model_module_version": "1.5.0",
          "state": {
            "_model_module": "@jupyter-widgets/controls",
            "_model_module_version": "1.5.0",
            "_model_name": "DescriptionStyleModel",
            "_view_count": null,
            "_view_module": "@jupyter-widgets/base",
            "_view_module_version": "1.2.0",
            "_view_name": "StyleView",
            "description_width": ""
          }
        },
        "7d66a802886d4484856ca9d4e62c0aa3": {
          "model_module": "@jupyter-widgets/base",
          "model_name": "LayoutModel",
          "model_module_version": "1.2.0",
          "state": {
            "_model_module": "@jupyter-widgets/base",
            "_model_module_version": "1.2.0",
            "_model_name": "LayoutModel",
            "_view_count": null,
            "_view_module": "@jupyter-widgets/base",
            "_view_module_version": "1.2.0",
            "_view_name": "LayoutView",
            "align_content": null,
            "align_items": null,
            "align_self": null,
            "border": null,
            "bottom": null,
            "display": null,
            "flex": null,
            "flex_flow": null,
            "grid_area": null,
            "grid_auto_columns": null,
            "grid_auto_flow": null,
            "grid_auto_rows": null,
            "grid_column": null,
            "grid_gap": null,
            "grid_row": null,
            "grid_template_areas": null,
            "grid_template_columns": null,
            "grid_template_rows": null,
            "height": null,
            "justify_content": null,
            "justify_items": null,
            "left": null,
            "margin": null,
            "max_height": null,
            "max_width": null,
            "min_height": null,
            "min_width": null,
            "object_fit": null,
            "object_position": null,
            "order": null,
            "overflow": null,
            "overflow_x": null,
            "overflow_y": null,
            "padding": null,
            "right": null,
            "top": null,
            "visibility": null,
            "width": null
          }
        },
        "9e84bb0f24ef4258a284d093eb00541d": {
          "model_module": "@jupyter-widgets/controls",
          "model_name": "ProgressStyleModel",
          "model_module_version": "1.5.0",
          "state": {
            "_model_module": "@jupyter-widgets/controls",
            "_model_module_version": "1.5.0",
            "_model_name": "ProgressStyleModel",
            "_view_count": null,
            "_view_module": "@jupyter-widgets/base",
            "_view_module_version": "1.2.0",
            "_view_name": "StyleView",
            "bar_color": null,
            "description_width": ""
          }
        },
        "76084c9509e34066bb1964fff26affd6": {
          "model_module": "@jupyter-widgets/base",
          "model_name": "LayoutModel",
          "model_module_version": "1.2.0",
          "state": {
            "_model_module": "@jupyter-widgets/base",
            "_model_module_version": "1.2.0",
            "_model_name": "LayoutModel",
            "_view_count": null,
            "_view_module": "@jupyter-widgets/base",
            "_view_module_version": "1.2.0",
            "_view_name": "LayoutView",
            "align_content": null,
            "align_items": null,
            "align_self": null,
            "border": null,
            "bottom": null,
            "display": null,
            "flex": null,
            "flex_flow": null,
            "grid_area": null,
            "grid_auto_columns": null,
            "grid_auto_flow": null,
            "grid_auto_rows": null,
            "grid_column": null,
            "grid_gap": null,
            "grid_row": null,
            "grid_template_areas": null,
            "grid_template_columns": null,
            "grid_template_rows": null,
            "height": null,
            "justify_content": null,
            "justify_items": null,
            "left": null,
            "margin": null,
            "max_height": null,
            "max_width": null,
            "min_height": null,
            "min_width": null,
            "object_fit": null,
            "object_position": null,
            "order": null,
            "overflow": null,
            "overflow_x": null,
            "overflow_y": null,
            "padding": null,
            "right": null,
            "top": null,
            "visibility": null,
            "width": null
          }
        },
        "9ba33d2a8ebd4a269a283afb6ec023ac": {
          "model_module": "@jupyter-widgets/controls",
          "model_name": "DescriptionStyleModel",
          "model_module_version": "1.5.0",
          "state": {
            "_model_module": "@jupyter-widgets/controls",
            "_model_module_version": "1.5.0",
            "_model_name": "DescriptionStyleModel",
            "_view_count": null,
            "_view_module": "@jupyter-widgets/base",
            "_view_module_version": "1.2.0",
            "_view_name": "StyleView",
            "description_width": ""
          }
        }
      }
    }
  },
  "nbformat": 4,
  "nbformat_minor": 0
}